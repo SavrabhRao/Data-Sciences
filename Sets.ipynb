{
 "cells": [
  {
   "cell_type": "code",
   "execution_count": 2,
   "id": "bc0e3224",
   "metadata": {},
   "outputs": [
    {
     "name": "stdout",
     "output_type": "stream",
     "text": [
      "<class 'set'>\n",
      "set()\n"
     ]
    }
   ],
   "source": [
    "a = set()\n",
    "print(type(a))\n",
    "print(a)"
   ]
  },
  {
   "cell_type": "code",
   "execution_count": 8,
   "id": "8ccee0cb",
   "metadata": {},
   "outputs": [
    {
     "name": "stdout",
     "output_type": "stream",
     "text": [
      "{True, 20, 10, 'saurabh', 13.0}\n"
     ]
    }
   ],
   "source": [
    "a = {10,20,True,\"saurabh\",13.0}\n",
    "print(a)\n",
    "# you can not add list or tupple in set"
   ]
  },
  {
   "cell_type": "code",
   "execution_count": 12,
   "id": "ad56927a",
   "metadata": {},
   "outputs": [],
   "source": [
    "a = {10,20,True,\"saurabh\",13.0}\n",
    "del a"
   ]
  },
  {
   "cell_type": "code",
   "execution_count": 17,
   "id": "c59a732a",
   "metadata": {},
   "outputs": [
    {
     "name": "stdout",
     "output_type": "stream",
     "text": [
      "{True, 10, 'saurabh', 20}\n"
     ]
    },
    {
     "data": {
      "text/plain": [
       "4"
      ]
     },
     "execution_count": 17,
     "metadata": {},
     "output_type": "execute_result"
    }
   ],
   "source": [
    "a = {10,20,True,\"saurabh\",20,20,20,20}\n",
    "print(a)\n",
    "len(a)\n",
    "# whenever you will print set the repeated items will consider as only one item in it\n",
    "# and length also taken by this"
   ]
  },
  {
   "cell_type": "markdown",
   "id": "93d3de69",
   "metadata": {},
   "source": [
    "## SET METHODS"
   ]
  },
  {
   "cell_type": "code",
   "execution_count": 22,
   "id": "b6a2cc88",
   "metadata": {},
   "outputs": [
    {
     "name": "stdout",
     "output_type": "stream",
     "text": [
      "{20, 90, 40, 10, 60, 30}\n"
     ]
    }
   ],
   "source": [
    "a = {10,20,30,40,60}\n",
    "a.add(90)\n",
    "print(a)\n",
    "# to add single value in a we use"
   ]
  },
  {
   "cell_type": "code",
   "execution_count": 20,
   "id": "7c373232",
   "metadata": {},
   "outputs": [
    {
     "name": "stdout",
     "output_type": "stream",
     "text": [
      "{True, 10, 'saurabh', 13.0, 45, 20, 23, 90, 30}\n"
     ]
    }
   ],
   "source": [
    "a = {10,20,True,\"saurabh\",13.0}\n",
    "b = {23,30,45,90}\n",
    "a.update(b)\n",
    "print(a)\n",
    "# to add new multiple values in ser we use update method"
   ]
  },
  {
   "cell_type": "code",
   "execution_count": 26,
   "id": "6a373f4b",
   "metadata": {},
   "outputs": [
    {
     "name": "stdout",
     "output_type": "stream",
     "text": [
      "{True, 20, 'saurabh', 13.0}\n"
     ]
    }
   ],
   "source": [
    "a = {10,20,True,\"saurabh\",13.0}\n",
    "a.discard(10)\n",
    "print(a)\n",
    "# to remove any one value we can do remove using discard method\n"
   ]
  },
  {
   "cell_type": "code",
   "execution_count": 27,
   "id": "c5fdef86",
   "metadata": {},
   "outputs": [
    {
     "name": "stdout",
     "output_type": "stream",
     "text": [
      "{True, 20, 10, 'saurabh', 13.0}\n"
     ]
    }
   ],
   "source": [
    "a = {10,20,True,\"saurabh\",13.0}\n",
    "a.discard(34)\n",
    "print(a)\n",
    "# if demended value is not present in the set then also it will not give erroe"
   ]
  },
  {
   "cell_type": "code",
   "execution_count": 28,
   "id": "6579069d",
   "metadata": {},
   "outputs": [
    {
     "name": "stdout",
     "output_type": "stream",
     "text": [
      "{True, 10, 'saurabh', 13.0}\n"
     ]
    }
   ],
   "source": [
    "a = {10,20,True,\"saurabh\",13.0}\n",
    "a.remove(20)\n",
    "print(a)\n",
    "# this will also work like discard but if demanded value is not present then see below"
   ]
  },
  {
   "cell_type": "code",
   "execution_count": 29,
   "id": "707d1ee8",
   "metadata": {},
   "outputs": [
    {
     "ename": "KeyError",
     "evalue": "34",
     "output_type": "error",
     "traceback": [
      "\u001b[1;31m---------------------------------------------------------------------------\u001b[0m",
      "\u001b[1;31mKeyError\u001b[0m                                  Traceback (most recent call last)",
      "\u001b[1;32m~\\AppData\\Local\\Temp\\ipykernel_3248\\3397465545.py\u001b[0m in \u001b[0;36m<module>\u001b[1;34m\u001b[0m\n\u001b[0;32m      1\u001b[0m \u001b[0ma\u001b[0m \u001b[1;33m=\u001b[0m \u001b[1;33m{\u001b[0m\u001b[1;36m10\u001b[0m\u001b[1;33m,\u001b[0m\u001b[1;36m20\u001b[0m\u001b[1;33m,\u001b[0m\u001b[1;32mTrue\u001b[0m\u001b[1;33m,\u001b[0m\u001b[1;34m\"saurabh\"\u001b[0m\u001b[1;33m,\u001b[0m\u001b[1;36m13.0\u001b[0m\u001b[1;33m}\u001b[0m\u001b[1;33m\u001b[0m\u001b[1;33m\u001b[0m\u001b[0m\n\u001b[1;32m----> 2\u001b[1;33m \u001b[0ma\u001b[0m\u001b[1;33m.\u001b[0m\u001b[0mremove\u001b[0m\u001b[1;33m(\u001b[0m\u001b[1;36m34\u001b[0m\u001b[1;33m)\u001b[0m\u001b[1;33m\u001b[0m\u001b[1;33m\u001b[0m\u001b[0m\n\u001b[0m\u001b[0;32m      3\u001b[0m \u001b[0mprint\u001b[0m\u001b[1;33m(\u001b[0m\u001b[0ma\u001b[0m\u001b[1;33m)\u001b[0m\u001b[1;33m\u001b[0m\u001b[1;33m\u001b[0m\u001b[0m\n",
      "\u001b[1;31mKeyError\u001b[0m: 34"
     ]
    }
   ],
   "source": [
    "a = {10,20,True,\"saurabh\",13.0}\n",
    "a.remove(34)\n",
    "print(a)\n",
    "# it is giving eror because demanded value is not present in the given set"
   ]
  },
  {
   "cell_type": "code",
   "execution_count": 32,
   "id": "254448e1",
   "metadata": {},
   "outputs": [
    {
     "name": "stdout",
     "output_type": "stream",
     "text": [
      "set()\n"
     ]
    }
   ],
   "source": [
    "a = {10,20,True,\"saurabh\",13.0}\n",
    "a.clear()\n",
    "print(a)\n",
    "# to clear all value without deleting object we use the clear function"
   ]
  },
  {
   "cell_type": "code",
   "execution_count": 34,
   "id": "ca231174",
   "metadata": {},
   "outputs": [
    {
     "ename": "NameError",
     "evalue": "name 'a' is not defined",
     "output_type": "error",
     "traceback": [
      "\u001b[1;31m---------------------------------------------------------------------------\u001b[0m",
      "\u001b[1;31mNameError\u001b[0m                                 Traceback (most recent call last)",
      "\u001b[1;32m~\\AppData\\Local\\Temp\\ipykernel_3248\\2188329365.py\u001b[0m in \u001b[0;36m<module>\u001b[1;34m\u001b[0m\n\u001b[0;32m      1\u001b[0m \u001b[0ma\u001b[0m \u001b[1;33m=\u001b[0m \u001b[1;33m{\u001b[0m\u001b[1;36m10\u001b[0m\u001b[1;33m,\u001b[0m\u001b[1;36m20\u001b[0m\u001b[1;33m,\u001b[0m\u001b[1;32mTrue\u001b[0m\u001b[1;33m,\u001b[0m\u001b[1;34m\"saurabh\"\u001b[0m\u001b[1;33m,\u001b[0m\u001b[1;36m13.0\u001b[0m\u001b[1;33m}\u001b[0m\u001b[1;33m\u001b[0m\u001b[1;33m\u001b[0m\u001b[0m\n\u001b[0;32m      2\u001b[0m \u001b[1;32mdel\u001b[0m \u001b[0ma\u001b[0m\u001b[1;33m\u001b[0m\u001b[1;33m\u001b[0m\u001b[0m\n\u001b[1;32m----> 3\u001b[1;33m \u001b[0mprint\u001b[0m\u001b[1;33m(\u001b[0m\u001b[0ma\u001b[0m\u001b[1;33m)\u001b[0m\u001b[1;33m\u001b[0m\u001b[1;33m\u001b[0m\u001b[0m\n\u001b[0m",
      "\u001b[1;31mNameError\u001b[0m: name 'a' is not defined"
     ]
    }
   ],
   "source": [
    "a = {10,20,True,\"saurabh\",13.0}\n",
    "del a\n",
    "print(a)\n",
    "# del function will delete the a object"
   ]
  },
  {
   "cell_type": "code",
   "execution_count": 35,
   "id": "9e16ea00",
   "metadata": {},
   "outputs": [
    {
     "data": {
      "text/plain": [
       "True"
      ]
     },
     "execution_count": 35,
     "metadata": {},
     "output_type": "execute_result"
    }
   ],
   "source": [
    "a = {10,20,30,40}\n",
    "b = {10,20,30,40,50}\n",
    "a.issubset(b)\n",
    "# it will return the boolean values "
   ]
  },
  {
   "cell_type": "code",
   "execution_count": 36,
   "id": "0a47d293",
   "metadata": {},
   "outputs": [
    {
     "data": {
      "text/plain": [
       "False"
      ]
     },
     "execution_count": 36,
     "metadata": {},
     "output_type": "execute_result"
    }
   ],
   "source": [
    "a = {10,20,30,40}\n",
    "b = {10,20,30,40,50}\n",
    "b.issubset(a)\n",
    "# b is not subset of a"
   ]
  },
  {
   "cell_type": "code",
   "execution_count": 40,
   "id": "c8a516cd",
   "metadata": {},
   "outputs": [
    {
     "data": {
      "text/plain": [
       "False"
      ]
     },
     "execution_count": 40,
     "metadata": {},
     "output_type": "execute_result"
    }
   ],
   "source": [
    "a = {10,20,30,40}\n",
    "b = {10,20,30,40,50}\n",
    "b.issuperset(a)\n",
    "# superset means if a is subset of b then b is super set of a which contain all the elements of a\n",
    "# it also return the boolean output"
   ]
  },
  {
   "cell_type": "markdown",
   "id": "dbe12fa4",
   "metadata": {},
   "source": [
    "## SET OPERATIONS"
   ]
  },
  {
   "cell_type": "code",
   "execution_count": 41,
   "id": "1306259f",
   "metadata": {},
   "outputs": [
    {
     "data": {
      "text/plain": [
       "{12, 13, 34, 66, 67, 78}"
      ]
     },
     "execution_count": 41,
     "metadata": {},
     "output_type": "execute_result"
    }
   ],
   "source": [
    "a = {12,34,66,78}\n",
    "b = {12,13,67,78}\n",
    "a.union(b)\n",
    "# union keyword used to find the union of two sets"
   ]
  },
  {
   "cell_type": "code",
   "execution_count": 42,
   "id": "6018046b",
   "metadata": {},
   "outputs": [
    {
     "data": {
      "text/plain": [
       "{12, 78}"
      ]
     },
     "execution_count": 42,
     "metadata": {},
     "output_type": "execute_result"
    }
   ],
   "source": [
    "a = {12,34,66,78}\n",
    "b = {12,13,67,78}\n",
    "a.intersection(b)\n",
    "# ntersection leyword used to find the intersection"
   ]
  },
  {
   "cell_type": "code",
   "execution_count": 43,
   "id": "513d60bc",
   "metadata": {},
   "outputs": [
    {
     "data": {
      "text/plain": [
       "{34, 66}"
      ]
     },
     "execution_count": 43,
     "metadata": {},
     "output_type": "execute_result"
    }
   ],
   "source": [
    "a = {12,34,66,78}\n",
    "b = {12,13,67,78}\n",
    "a.difference(b)\n",
    "# a.difference(b) means remove all the elements from a which are present in b \n",
    "# result come from the set a only"
   ]
  },
  {
   "cell_type": "code",
   "execution_count": 44,
   "id": "86bcee5b",
   "metadata": {},
   "outputs": [
    {
     "data": {
      "text/plain": [
       "{13, 34, 66, 67}"
      ]
     },
     "execution_count": 44,
     "metadata": {},
     "output_type": "execute_result"
    }
   ],
   "source": [
    "a = {12,34,66,78}\n",
    "b = {12,13,67,78}\n",
    "a.symmetric_difference(b)\n",
    "#(aub)-(a∩b) = symmetric difference"
   ]
  },
  {
   "cell_type": "code",
   "execution_count": null,
   "id": "d5a39088",
   "metadata": {},
   "outputs": [],
   "source": []
  }
 ],
 "metadata": {
  "kernelspec": {
   "display_name": "Python 3 (ipykernel)",
   "language": "python",
   "name": "python3"
  },
  "language_info": {
   "codemirror_mode": {
    "name": "ipython",
    "version": 3
   },
   "file_extension": ".py",
   "mimetype": "text/x-python",
   "name": "python",
   "nbconvert_exporter": "python",
   "pygments_lexer": "ipython3",
   "version": "3.9.13"
  }
 },
 "nbformat": 4,
 "nbformat_minor": 5
}
