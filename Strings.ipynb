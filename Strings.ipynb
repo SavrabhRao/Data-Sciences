{
 "cells": [
  {
   "cell_type": "code",
   "execution_count": 1,
   "id": "c3a90a1d",
   "metadata": {},
   "outputs": [
    {
     "name": "stdout",
     "output_type": "stream",
     "text": [
      "hwllo wordl\n"
     ]
    }
   ],
   "source": [
    "s = \"hllow wordl\"\n",
    "print(s)"
   ]
  },
  {
   "cell_type": "code",
   "execution_count": 1,
   "id": "e194db52",
   "metadata": {},
   "outputs": [
    {
     "name": "stdout",
     "output_type": "stream",
     "text": [
      "my name is saurabbh\n"
     ]
    }
   ],
   "source": [
    "name = \"saurabbh\"\n",
    "b = f\"my name is {name}\"\n",
    "print(b)\n"
   ]
  },
  {
   "cell_type": "code",
   "execution_count": 7,
   "id": "c038a076",
   "metadata": {},
   "outputs": [
    {
     "name": "stdout",
     "output_type": "stream",
     "text": [
      "my name is saurabh and id is 1234\n"
     ]
    }
   ],
   "source": [
    "name = \"saurabh\"\n",
    "id = 1234\n",
    "b = f\"my name is {name} and id is {id}\"\n",
    "print(b)"
   ]
  },
  {
   "cell_type": "code",
   "execution_count": 9,
   "id": "501af914",
   "metadata": {},
   "outputs": [
    {
     "name": "stdout",
     "output_type": "stream",
     "text": [
      "the value is 23.45\n"
     ]
    }
   ],
   "source": [
    "value = 23.45\n",
    "b = f\"the value is {value:.2f}\"\n",
    "print(b)"
   ]
  },
  {
   "cell_type": "code",
   "execution_count": 11,
   "id": "d40d7049",
   "metadata": {},
   "outputs": [
    {
     "name": "stdout",
     "output_type": "stream",
     "text": [
      "18\n"
     ]
    }
   ],
   "source": [
    "name = \"saurabh balu bodke\"\n",
    "b = len(name)\n",
    "print(b)"
   ]
  },
  {
   "cell_type": "code",
   "execution_count": 14,
   "id": "cbe5c9da",
   "metadata": {},
   "outputs": [
    {
     "data": {
      "text/plain": [
       "'hello world'"
      ]
     },
     "execution_count": 14,
     "metadata": {},
     "output_type": "execute_result"
    }
   ],
   "source": [
    "\"hello\"+\"world\""
   ]
  },
  {
   "cell_type": "markdown",
   "id": "b50310c3",
   "metadata": {},
   "source": [
    "String concatination"
   ]
  },
  {
   "cell_type": "code",
   "execution_count": 16,
   "id": "332db4a8",
   "metadata": {},
   "outputs": [
    {
     "data": {
      "text/plain": [
       "'hello world'"
      ]
     },
     "execution_count": 16,
     "metadata": {},
     "output_type": "execute_result"
    }
   ],
   "source": [
    "\"hello\"+\" world\""
   ]
  },
  {
   "cell_type": "code",
   "execution_count": 21,
   "id": "c70923bb",
   "metadata": {},
   "outputs": [
    {
     "data": {
      "text/plain": [
       "'hellow hellow hellow hellow hellow '"
      ]
     },
     "execution_count": 21,
     "metadata": {},
     "output_type": "execute_result"
    }
   ],
   "source": [
    "\"hellow \"*5"
   ]
  },
  {
   "cell_type": "code",
   "execution_count": 22,
   "id": "de5f87ff",
   "metadata": {},
   "outputs": [
    {
     "ename": "TypeError",
     "evalue": "can only concatenate str (not \"int\") to str",
     "output_type": "error",
     "traceback": [
      "\u001b[1;31m---------------------------------------------------------------------------\u001b[0m",
      "\u001b[1;31mTypeError\u001b[0m                                 Traceback (most recent call last)",
      "\u001b[1;32m~\\AppData\\Local\\Temp\\ipykernel_4368\\3064955121.py\u001b[0m in \u001b[0;36m<module>\u001b[1;34m\u001b[0m\n\u001b[1;32m----> 1\u001b[1;33m \u001b[1;34m\"hellow\"\u001b[0m\u001b[1;33m+\u001b[0m\u001b[1;36m2\u001b[0m\u001b[1;33m\u001b[0m\u001b[1;33m\u001b[0m\u001b[0m\n\u001b[0m",
      "\u001b[1;31mTypeError\u001b[0m: can only concatenate str (not \"int\") to str"
     ]
    }
   ],
   "source": [
    "\"hellow\"+2"
   ]
  },
  {
   "cell_type": "code",
   "execution_count": 23,
   "id": "8f0d5f10",
   "metadata": {},
   "outputs": [
    {
     "data": {
      "text/plain": [
       "23"
      ]
     },
     "execution_count": 23,
     "metadata": {},
     "output_type": "execute_result"
    }
   ],
   "source": [
    "int(23.90)"
   ]
  },
  {
   "cell_type": "code",
   "execution_count": 24,
   "id": "eb90eb2a",
   "metadata": {},
   "outputs": [
    {
     "data": {
      "text/plain": [
       "23.0"
      ]
     },
     "execution_count": 24,
     "metadata": {},
     "output_type": "execute_result"
    }
   ],
   "source": [
    "float(23)"
   ]
  },
  {
   "cell_type": "code",
   "execution_count": 25,
   "id": "7dfdcadf",
   "metadata": {},
   "outputs": [
    {
     "data": {
      "text/plain": [
       "'234'"
      ]
     },
     "execution_count": 25,
     "metadata": {},
     "output_type": "execute_result"
    }
   ],
   "source": [
    "str(234)\n"
   ]
  },
  {
   "cell_type": "code",
   "execution_count": 26,
   "id": "cd28bef2",
   "metadata": {},
   "outputs": [
    {
     "data": {
      "text/plain": [
       "False"
      ]
     },
     "execution_count": 26,
     "metadata": {},
     "output_type": "execute_result"
    }
   ],
   "source": [
    "bool(0)"
   ]
  },
  {
   "cell_type": "code",
   "execution_count": 27,
   "id": "e679fb0f",
   "metadata": {},
   "outputs": [
    {
     "data": {
      "text/plain": [
       "True"
      ]
     },
     "execution_count": 27,
     "metadata": {},
     "output_type": "execute_result"
    }
   ],
   "source": [
    "bool(1)"
   ]
  },
  {
   "cell_type": "code",
   "execution_count": 28,
   "id": "9f544d6f",
   "metadata": {},
   "outputs": [
    {
     "data": {
      "text/plain": [
       "345"
      ]
     },
     "execution_count": 28,
     "metadata": {},
     "output_type": "execute_result"
    }
   ],
   "source": [
    "int(\"345\")"
   ]
  },
  {
   "cell_type": "code",
   "execution_count": 29,
   "id": "c2753dc7",
   "metadata": {},
   "outputs": [
    {
     "ename": "ValueError",
     "evalue": "invalid literal for int() with base 10: '23.56'",
     "output_type": "error",
     "traceback": [
      "\u001b[1;31m---------------------------------------------------------------------------\u001b[0m",
      "\u001b[1;31mValueError\u001b[0m                                Traceback (most recent call last)",
      "\u001b[1;32m~\\AppData\\Local\\Temp\\ipykernel_4368\\2044281514.py\u001b[0m in \u001b[0;36m<module>\u001b[1;34m\u001b[0m\n\u001b[1;32m----> 1\u001b[1;33m \u001b[0mint\u001b[0m\u001b[1;33m(\u001b[0m\u001b[1;34m\"23.56\"\u001b[0m\u001b[1;33m)\u001b[0m\u001b[1;33m\u001b[0m\u001b[1;33m\u001b[0m\u001b[0m\n\u001b[0m",
      "\u001b[1;31mValueError\u001b[0m: invalid literal for int() with base 10: '23.56'"
     ]
    }
   ],
   "source": [
    "int(\"23.56\")   # we cant convert floating string nummbers to int bcz it includes the nonn numerical valur'.'"
   ]
  },
  {
   "cell_type": "code",
   "execution_count": 30,
   "id": "dda07873",
   "metadata": {},
   "outputs": [
    {
     "data": {
      "text/plain": [
       "True"
      ]
     },
     "execution_count": 30,
     "metadata": {},
     "output_type": "execute_result"
    }
   ],
   "source": [
    "bool(2)"
   ]
  },
  {
   "cell_type": "code",
   "execution_count": 31,
   "id": "7ec8cb25",
   "metadata": {},
   "outputs": [
    {
     "data": {
      "text/plain": [
       "False"
      ]
     },
     "execution_count": 31,
     "metadata": {},
     "output_type": "execute_result"
    }
   ],
   "source": [
    "bool(0.00)"
   ]
  },
  {
   "cell_type": "code",
   "execution_count": 32,
   "id": "574644d0",
   "metadata": {},
   "outputs": [
    {
     "data": {
      "text/plain": [
       "True"
      ]
     },
     "execution_count": 32,
     "metadata": {},
     "output_type": "execute_result"
    }
   ],
   "source": [
    "bool(0.01)"
   ]
  },
  {
   "cell_type": "code",
   "execution_count": 33,
   "id": "96cbe7ae",
   "metadata": {},
   "outputs": [
    {
     "data": {
      "text/plain": [
       "False"
      ]
     },
     "execution_count": 33,
     "metadata": {},
     "output_type": "execute_result"
    }
   ],
   "source": [
    "bool(-0.00)"
   ]
  },
  {
   "cell_type": "code",
   "execution_count": 34,
   "id": "35db75c7",
   "metadata": {},
   "outputs": [
    {
     "data": {
      "text/plain": [
       "True"
      ]
     },
     "execution_count": 34,
     "metadata": {},
     "output_type": "execute_result"
    }
   ],
   "source": [
    "bool(-1.0)"
   ]
  },
  {
   "cell_type": "code",
   "execution_count": 36,
   "id": "92c41c13",
   "metadata": {},
   "outputs": [
    {
     "data": {
      "text/plain": [
       "True"
      ]
     },
     "execution_count": 36,
     "metadata": {},
     "output_type": "execute_result"
    }
   ],
   "source": [
    "bool(-0.01)"
   ]
  },
  {
   "cell_type": "code",
   "execution_count": 37,
   "id": "d58449bf",
   "metadata": {},
   "outputs": [
    {
     "data": {
      "text/plain": [
       "'True'"
      ]
     },
     "execution_count": 37,
     "metadata": {},
     "output_type": "execute_result"
    }
   ],
   "source": [
    "str(True)"
   ]
  },
  {
   "cell_type": "code",
   "execution_count": 46,
   "id": "edcc91d2",
   "metadata": {},
   "outputs": [
    {
     "data": {
      "text/plain": [
       "'False'"
      ]
     },
     "execution_count": 46,
     "metadata": {},
     "output_type": "execute_result"
    }
   ],
   "source": [
    "str(False)"
   ]
  },
  {
   "cell_type": "markdown",
   "id": "65adc916",
   "metadata": {},
   "source": [
    "# Index accessing in srrings"
   ]
  },
  {
   "cell_type": "code",
   "execution_count": 41,
   "id": "3fef78d8",
   "metadata": {},
   "outputs": [
    {
     "name": "stdout",
     "output_type": "stream",
     "text": [
      "s\n"
     ]
    }
   ],
   "source": [
    "name = \"saurabh balu bodke\"\n",
    "b = name[0]\n",
    "print(b)"
   ]
  },
  {
   "cell_type": "code",
   "execution_count": 44,
   "id": "556cb3f1",
   "metadata": {},
   "outputs": [
    {
     "name": "stdout",
     "output_type": "stream",
     "text": [
      "e\n"
     ]
    }
   ],
   "source": [
    "name = \"saurabh balu bodke\"\n",
    "b = name[-1] \n",
    "print(b)   # last character of the string is counted as -1 and firust character as -(length of string)"
   ]
  },
  {
   "cell_type": "code",
   "execution_count": 45,
   "id": "04c9c782",
   "metadata": {},
   "outputs": [
    {
     "ename": "IndexError",
     "evalue": "string index out of range",
     "output_type": "error",
     "traceback": [
      "\u001b[1;31m---------------------------------------------------------------------------\u001b[0m",
      "\u001b[1;31mIndexError\u001b[0m                                Traceback (most recent call last)",
      "\u001b[1;32m~\\AppData\\Local\\Temp\\ipykernel_4368\\3315351994.py\u001b[0m in \u001b[0;36m<module>\u001b[1;34m\u001b[0m\n\u001b[0;32m      1\u001b[0m \u001b[0mname\u001b[0m \u001b[1;33m=\u001b[0m \u001b[1;34m\"saurabh balu bodke\"\u001b[0m\u001b[1;33m\u001b[0m\u001b[1;33m\u001b[0m\u001b[0m\n\u001b[1;32m----> 2\u001b[1;33m \u001b[0mb\u001b[0m \u001b[1;33m=\u001b[0m \u001b[0mname\u001b[0m\u001b[1;33m[\u001b[0m\u001b[1;36m20\u001b[0m\u001b[1;33m]\u001b[0m\u001b[1;33m\u001b[0m\u001b[1;33m\u001b[0m\u001b[0m\n\u001b[0m\u001b[0;32m      3\u001b[0m \u001b[0mprint\u001b[0m\u001b[1;33m(\u001b[0m\u001b[0mb\u001b[0m\u001b[1;33m)\u001b[0m\u001b[1;33m\u001b[0m\u001b[1;33m\u001b[0m\u001b[0m\n",
      "\u001b[1;31mIndexError\u001b[0m: string index out of range"
     ]
    }
   ],
   "source": [
    "name = \"saurabh balu bodke\"\n",
    "b = name[20]\n",
    "print(b)   # we cant access index ouut of its range it will give error"
   ]
  },
  {
   "cell_type": "code",
   "execution_count": 49,
   "id": "87cdfce5",
   "metadata": {},
   "outputs": [
    {
     "name": "stdout",
     "output_type": "stream",
     "text": [
      "16\n"
     ]
    }
   ],
   "source": [
    "alpha = \"abcdefghijklmnop\"\n",
    "print(len(alpha))"
   ]
  },
  {
   "cell_type": "code",
   "execution_count": 53,
   "id": "2478f0c1",
   "metadata": {},
   "outputs": [
    {
     "name": "stdout",
     "output_type": "stream",
     "text": [
      "abcdefghijklmno\n"
     ]
    }
   ],
   "source": [
    "alpha = \"abcdefghijklmnop\"\n",
    "b = alpha[0:15:1] \n",
    "print(b) "
   ]
  },
  {
   "cell_type": "markdown",
   "id": "ec1ed58d",
   "metadata": {},
   "source": [
    "##  In slicing first term is starting term (included in slicing) second term is last ters (excluded from slicing) third term is step of excluding if 1 means exclude 0 terms 2 meansd exclude 1 and 3 means exclude 2 terms"
   ]
  },
  {
   "cell_type": "code",
   "execution_count": 54,
   "id": "f0f82ca2",
   "metadata": {},
   "outputs": [
    {
     "name": "stdout",
     "output_type": "stream",
     "text": [
      "acegikmo\n"
     ]
    }
   ],
   "source": [
    "alpha = \"abcdefghijklmnop\"\n",
    "b = alpha[0:15:2] \n",
    "print(b) "
   ]
  },
  {
   "cell_type": "code",
   "execution_count": 55,
   "id": "3c48693b",
   "metadata": {},
   "outputs": [
    {
     "name": "stdout",
     "output_type": "stream",
     "text": [
      "adgjm\n"
     ]
    }
   ],
   "source": [
    "alpha = \"abcdefghijklmnop\"\n",
    "b = alpha[0:15:3] \n",
    "print(b) "
   ]
  },
  {
   "cell_type": "code",
   "execution_count": 56,
   "id": "ec4a8792",
   "metadata": {},
   "outputs": [
    {
     "name": "stdout",
     "output_type": "stream",
     "text": [
      "aeim\n"
     ]
    }
   ],
   "source": [
    "alpha = \"abcdefghijklmnop\"\n",
    "b = alpha[0:15:4] \n",
    "print(b) "
   ]
  },
  {
   "cell_type": "code",
   "execution_count": 57,
   "id": "c2506cfb",
   "metadata": {},
   "outputs": [
    {
     "name": "stdout",
     "output_type": "stream",
     "text": [
      "agm\n"
     ]
    }
   ],
   "source": [
    "alpha = \"abcdefghijklmnop\"\n",
    "b = alpha[0:15:6]\n",
    "print(b)"
   ]
  },
  {
   "cell_type": "code",
   "execution_count": 58,
   "id": "7f59a64c",
   "metadata": {},
   "outputs": [
    {
     "name": "stdout",
     "output_type": "stream",
     "text": [
      "saurabh bodke\n"
     ]
    }
   ],
   "source": [
    "name = \"saurabh bodke\"\n",
    "b = name[0:]\n",
    "print(b)"
   ]
  },
  {
   "cell_type": "code",
   "execution_count": 60,
   "id": "62bfcf04",
   "metadata": {},
   "outputs": [
    {
     "name": "stdout",
     "output_type": "stream",
     "text": [
      "aurabh bodke\n"
     ]
    }
   ],
   "source": [
    "name = \"saurabh bodke\"\n",
    "b= name[1:]\n",
    "print(b)"
   ]
  },
  {
   "cell_type": "code",
   "execution_count": 62,
   "id": "208238d3",
   "metadata": {},
   "outputs": [
    {
     "name": "stdout",
     "output_type": "stream",
     "text": [
      "rabh bodke\n"
     ]
    }
   ],
   "source": [
    "name = \"suarabh bodke\"\n",
    "b = name[3:]\n",
    "print(b)"
   ]
  },
  {
   "cell_type": "code",
   "execution_count": 63,
   "id": "5073c7f0",
   "metadata": {},
   "outputs": [
    {
     "name": "stdout",
     "output_type": "stream",
     "text": [
      "saurabh\n"
     ]
    }
   ],
   "source": [
    "name = \"saurabh bodke\"\n",
    "b = name[0:7]\n",
    "print(b)"
   ]
  },
  {
   "cell_type": "markdown",
   "id": "73cae63b",
   "metadata": {},
   "source": [
    "## Negative slicing"
   ]
  },
  {
   "cell_type": "code",
   "execution_count": 65,
   "id": "c150a967",
   "metadata": {},
   "outputs": [
    {
     "name": "stdout",
     "output_type": "stream",
     "text": [
      "13\n"
     ]
    }
   ],
   "source": [
    "name = \"saurabh bodke\"\n",
    "b=len(name)\n",
    "print(b)\n"
   ]
  },
  {
   "cell_type": "code",
   "execution_count": 67,
   "id": "e96c97d6",
   "metadata": {},
   "outputs": [
    {
     "name": "stdout",
     "output_type": "stream",
     "text": [
      "s\n"
     ]
    }
   ],
   "source": [
    "name = \"saurabh bodke\"\n",
    "b = name[-13]\n",
    "print(b)"
   ]
  },
  {
   "cell_type": "code",
   "execution_count": 68,
   "id": "7440d637",
   "metadata": {},
   "outputs": [
    {
     "name": "stdout",
     "output_type": "stream",
     "text": [
      "edbhau\n"
     ]
    }
   ],
   "source": [
    "name = \"saurabh bodke\"\n",
    "b = name[-1:-13:-2]\n",
    "print(b)"
   ]
  },
  {
   "cell_type": "code",
   "execution_count": 70,
   "id": "c8d3e269",
   "metadata": {},
   "outputs": [
    {
     "name": "stdout",
     "output_type": "stream",
     "text": [
      "ko \n"
     ]
    }
   ],
   "source": [
    "name = \"saurabh bodke\"\n",
    "b = name[-2:-7:-2] \n",
    "print(b)"
   ]
  },
  {
   "cell_type": "code",
   "execution_count": 78,
   "id": "ab611b40",
   "metadata": {},
   "outputs": [
    {
     "name": "stdout",
     "output_type": "stream",
     "text": [
      "\n"
     ]
    }
   ],
   "source": [
    "name = \"saurabh bodke\"\n",
    "b = name[6:0:2]\n",
    "print(b) # it will not give any output becaue our stringis going in reverse direction and steps value is  positive direction"
   ]
  },
  {
   "cell_type": "markdown",
   "id": "f8d60f83",
   "metadata": {},
   "source": [
    "# If nothing is there means before 1st ':' its starting poing is 0 if nothing is there after the first ':' it means the end point of string is (lenth of string) and If nothing is there after the second ':' means any step have not excluded"
   ]
  },
  {
   "cell_type": "code",
   "execution_count": 80,
   "id": "342d203e",
   "metadata": {},
   "outputs": [
    {
     "name": "stdout",
     "output_type": "stream",
     "text": [
      "suahbde\n"
     ]
    }
   ],
   "source": [
    "name = \"saurabh bodke\"\n",
    "b = name[::2]\n",
    "print(b)"
   ]
  },
  {
   "cell_type": "code",
   "execution_count": 81,
   "id": "a065e09c",
   "metadata": {},
   "outputs": [
    {
     "name": "stdout",
     "output_type": "stream",
     "text": [
      "saurabh \n"
     ]
    }
   ],
   "source": [
    "name = \"saurabh bodke\"\n",
    "b = name[:8:]\n",
    "print(b) # as a 7th index the white space is defaultly there saurabh "
   ]
  },
  {
   "cell_type": "code",
   "execution_count": 87,
   "id": "6b387eea",
   "metadata": {},
   "outputs": [
    {
     "name": "stdout",
     "output_type": "stream",
     "text": [
      "rabh bodke\n"
     ]
    }
   ],
   "source": [
    "name = \"saurabh bodke\"\n",
    "b = name[3::]\n",
    "print(b)"
   ]
  },
  {
   "cell_type": "code",
   "execution_count": 122,
   "id": "8f834d6f",
   "metadata": {},
   "outputs": [
    {
     "name": "stdout",
     "output_type": "stream",
     "text": [
      "rua\n"
     ]
    }
   ],
   "source": [
    "name = \"saurabh balu bodke\"\n",
    "print(name[-15:0:-1])"
   ]
  },
  {
   "cell_type": "markdown",
   "id": "eff529a1",
   "metadata": {},
   "source": [
    "# to print the complete string in reverse order below syntax is there "
   ]
  },
  {
   "cell_type": "code",
   "execution_count": 99,
   "id": "01cfb25c",
   "metadata": {},
   "outputs": [
    {
     "name": "stdout",
     "output_type": "stream",
     "text": [
      ".tsixe ton seod hcihw ,xedni ht02 eht ssecca ot gniyrt era uoy dna ,)secaps gnidulcni( sretcarahc 91 fo               \n",
      " htgnel asah eman gnirts eht ,esac siht nI .egnar dilav sti fo edistuo si taht eman gnirts eht fo xedni na               \n",
      "ssecca ot gniyrt era uoy taht setacidni egnar fo tuo xedni gnirts :rorrExednI egassem rorre ehT\n"
     ]
    }
   ],
   "source": [
    "paragraph = \"\"\"The error message IndexError: string index out of range indicates that you are trying to access\n",
    "               an index of the string name that is outside of its valid range. In this case, the string name hasa length \n",
    "               of 19 characters (including spaces), and you are trying to access the 20th index, which does not exist.\"\"\"\n",
    "b = paragraph[::-1]\n",
    "print(b)"
   ]
  },
  {
   "cell_type": "markdown",
   "id": "f810d630",
   "metadata": {},
   "source": [
    "## STRING METHODS "
   ]
  },
  {
   "cell_type": "code",
   "execution_count": 103,
   "id": "a730c3c0",
   "metadata": {},
   "outputs": [
    {
     "name": "stdout",
     "output_type": "stream",
     "text": [
      "336\n"
     ]
    }
   ],
   "source": [
    "print(len(paragraph))"
   ]
  },
  {
   "cell_type": "code",
   "execution_count": 108,
   "id": "a592f9bd",
   "metadata": {
    "scrolled": true
   },
   "outputs": [
    {
     "data": {
      "text/plain": [
       "'x'"
      ]
     },
     "execution_count": 108,
     "metadata": {},
     "output_type": "execute_result"
    }
   ],
   "source": [
    "paragraph[312]"
   ]
  },
  {
   "cell_type": "code",
   "execution_count": 115,
   "id": "2eda9393",
   "metadata": {
    "scrolled": true
   },
   "outputs": [
    {
     "data": {
      "text/plain": [
       "4"
      ]
     },
     "execution_count": 115,
     "metadata": {},
     "output_type": "execute_result"
    }
   ],
   "source": [
    "paragraph.count(\"ind\")"
   ]
  },
  {
   "cell_type": "code",
   "execution_count": 123,
   "id": "d4d84a77",
   "metadata": {},
   "outputs": [
    {
     "data": {
      "text/plain": [
       "'THE QUICK BROWN FOX JUMP OVER THE LAZY DOG '"
      ]
     },
     "execution_count": 123,
     "metadata": {},
     "output_type": "execute_result"
    }
   ],
   "source": [
    "sent =  \"the quick brown fox jump over the lazy dog \"\n",
    "sent.upper()"
   ]
  },
  {
   "cell_type": "code",
   "execution_count": 125,
   "id": "39fc64a7",
   "metadata": {},
   "outputs": [
    {
     "data": {
      "text/plain": [
       "'SAURABH'"
      ]
     },
     "execution_count": 125,
     "metadata": {},
     "output_type": "execute_result"
    }
   ],
   "source": [
    "name = \"saurabh\"\n",
    "name.upper()"
   ]
  },
  {
   "cell_type": "code",
   "execution_count": 128,
   "id": "d8fb3685",
   "metadata": {},
   "outputs": [
    {
     "data": {
      "text/plain": [
       "'the quick fox jump  over the lazy dog'"
      ]
     },
     "execution_count": 128,
     "metadata": {},
     "output_type": "execute_result"
    }
   ],
   "source": [
    "sent = \"The quick Fox Jump  Over The Lazy Dog\"\n",
    "sent.lower()"
   ]
  },
  {
   "cell_type": "code",
   "execution_count": 130,
   "id": "7e4b15fa",
   "metadata": {},
   "outputs": [
    {
     "data": {
      "text/plain": [
       "'saurabh bodke'"
      ]
     },
     "execution_count": 130,
     "metadata": {},
     "output_type": "execute_result"
    }
   ],
   "source": [
    "name = \"SAURABH bodke\"\n",
    "name.lower()"
   ]
  },
  {
   "cell_type": "code",
   "execution_count": 135,
   "id": "0acb0d0d",
   "metadata": {},
   "outputs": [
    {
     "data": {
      "text/plain": [
       "'THE quick FOX JUMP over THE LAZY DOG'"
      ]
     },
     "execution_count": 135,
     "metadata": {},
     "output_type": "execute_result"
    }
   ],
   "source": [
    "sent = \"the QUICK fox jump OVER the lazy dog\"\n",
    "sent.swapcase()\n",
    "# it swaps the upper case to lower and lower to upper"
   ]
  },
  {
   "cell_type": "code",
   "execution_count": 133,
   "id": "a8fe9d74",
   "metadata": {},
   "outputs": [
    {
     "data": {
      "text/plain": [
       "'The quick fox jump over the lazy dog'"
      ]
     },
     "execution_count": 133,
     "metadata": {},
     "output_type": "execute_result"
    }
   ],
   "source": [
    "sent = \"the quick fox jump over the lazy dog\"\n",
    "sent.capitalize()\n",
    "# it capitalize the leasing alphabet "
   ]
  },
  {
   "cell_type": "code",
   "execution_count": 134,
   "id": "2e13c3a0",
   "metadata": {},
   "outputs": [
    {
     "data": {
      "text/plain": [
       "'The Lazy Fox Jump Over The Dog'"
      ]
     },
     "execution_count": 134,
     "metadata": {},
     "output_type": "execute_result"
    }
   ],
   "source": [
    "sent = \"ThE LazY foX juMP oVeR tHE dOG\"\n",
    "sent.title()\n",
    "# it capitalize the each alphabet of leading word"
   ]
  },
  {
   "cell_type": "code",
   "execution_count": 139,
   "id": "5b809e0b",
   "metadata": {},
   "outputs": [
    {
     "data": {
      "text/plain": [
       "'saurabh bodke'"
      ]
     },
     "execution_count": 139,
     "metadata": {},
     "output_type": "execute_result"
    }
   ],
   "source": [
    "s = [\"saurabh\" , \"bodke\"]\n",
    "\" \".join(s) \n",
    "# it will join the the letters in bracates with symbol in \"+\" in double coutes you can try your choice special char also"
   ]
  },
  {
   "cell_type": "code",
   "execution_count": 140,
   "id": "91a4bf12",
   "metadata": {},
   "outputs": [
    {
     "data": {
      "text/plain": [
       "'saurabh'"
      ]
     },
     "execution_count": 140,
     "metadata": {},
     "output_type": "execute_result"
    }
   ],
   "source": [
    "s = \"  saurabh \"\n",
    "s.strip()\n",
    "# it removes the leading and last whieapaces "
   ]
  },
  {
   "cell_type": "code",
   "execution_count": 141,
   "id": "f9629579",
   "metadata": {},
   "outputs": [
    {
     "data": {
      "text/plain": [
       "'saurabh '"
      ]
     },
     "execution_count": 141,
     "metadata": {},
     "output_type": "execute_result"
    }
   ],
   "source": [
    "s = \"  saurabh \"\n",
    "s.lstrip()\n",
    "# it will remove the leading whitespace but not last one like 'saurabh ' here leasing whitespace is removed "
   ]
  },
  {
   "cell_type": "code",
   "execution_count": 142,
   "id": "c92920b3",
   "metadata": {},
   "outputs": [
    {
     "data": {
      "text/plain": [
       "'  saurabh'"
      ]
     },
     "execution_count": 142,
     "metadata": {},
     "output_type": "execute_result"
    }
   ],
   "source": [
    "s = \"  saurabh \"\n",
    "s.rstrip()\n",
    "# it will remove the last or trailing white space'  saurabh'"
   ]
  },
  {
   "cell_type": "code",
   "execution_count": 144,
   "id": "74b92679",
   "metadata": {},
   "outputs": [
    {
     "data": {
      "text/plain": [
       "'a quick brown fox jump over a lazy dog'"
      ]
     },
     "execution_count": 144,
     "metadata": {},
     "output_type": "execute_result"
    }
   ],
   "source": [
    "s = \"the quick brown fox jump over the lazy dog\"\n",
    "s.replace(\"the\",\"a\")\n",
    "# it replaces the (\"a\",\"b\") a value by b"
   ]
  },
  {
   "cell_type": "code",
   "execution_count": 145,
   "id": "4a9d6469",
   "metadata": {},
   "outputs": [
    {
     "data": {
      "text/plain": [
       "'the quick black fox jump over the lazy dog'"
      ]
     },
     "execution_count": 145,
     "metadata": {},
     "output_type": "execute_result"
    }
   ],
   "source": [
    "sent = \"the quick brown fox jump over the lazy dog\"\n",
    "s.replace(\"brown\",\"black\")\n",
    "# it replaces the brown word in sent by the black"
   ]
  },
  {
   "cell_type": "code",
   "execution_count": 151,
   "id": "e79b37de",
   "metadata": {},
   "outputs": [
    {
     "data": {
      "text/plain": [
       "['the', 'quick', 'brown', 'fox', 'jump', 'over', 'the', 'lazy', 'dog']"
      ]
     },
     "execution_count": 151,
     "metadata": {},
     "output_type": "execute_result"
    }
   ],
   "source": [
    "sent = \" the quick brown fox jump over the lazy dog\"\n",
    "sent.split()\n",
    "# it will split the sentence in list type"
   ]
  },
  {
   "cell_type": "code",
   "execution_count": 156,
   "id": "52a4ff51",
   "metadata": {},
   "outputs": [
    {
     "data": {
      "text/plain": [
       "'the quick brown fox jump over the lazy dog'"
      ]
     },
     "execution_count": 156,
     "metadata": {},
     "output_type": "execute_result"
    }
   ],
   "source": [
    "sent = ['the', 'quick', 'brown', 'fox', 'jump', 'over', 'the', 'lazy', 'dog']\n",
    "\" \".join(sent)\n",
    "# it will join the letters in bracates with symbol in \" \" in double coutes"
   ]
  },
  {
   "cell_type": "code",
   "execution_count": 138,
   "id": "023b123a",
   "metadata": {},
   "outputs": [
    {
     "data": {
      "text/plain": [
       "'saurabh + bodke'"
      ]
     },
     "execution_count": 138,
     "metadata": {},
     "output_type": "execute_result"
    }
   ],
   "source": [
    "s = [\"saurabh\",\"bodke\"]\n",
    "\" + \".join(s)\n",
    "# it will join the the letters in bracates with symbol in \"+\" in double coutes"
   ]
  },
  {
   "cell_type": "code",
   "execution_count": 158,
   "id": "c37b4c3b",
   "metadata": {},
   "outputs": [
    {
     "data": {
      "text/plain": [
       "10"
      ]
     },
     "execution_count": 158,
     "metadata": {},
     "output_type": "execute_result"
    }
   ],
   "source": [
    "sent =  \"the quick broun fox jumpmover the lazy dog\"\n",
    "sent.index(\"bro\")"
   ]
  },
  {
   "cell_type": "code",
   "execution_count": 169,
   "id": "96dbf414",
   "metadata": {},
   "outputs": [
    {
     "ename": "ValueError",
     "evalue": "substring not found",
     "output_type": "error",
     "traceback": [
      "\u001b[1;31m---------------------------------------------------------------------------\u001b[0m",
      "\u001b[1;31mValueError\u001b[0m                                Traceback (most recent call last)",
      "\u001b[1;32m~\\AppData\\Local\\Temp\\ipykernel_4368\\1015181573.py\u001b[0m in \u001b[0;36m<module>\u001b[1;34m\u001b[0m\n\u001b[0;32m      1\u001b[0m \u001b[0msent\u001b[0m \u001b[1;33m=\u001b[0m \u001b[1;34m\"the quick brown fox jump over the lazy dog\"\u001b[0m\u001b[1;33m\u001b[0m\u001b[1;33m\u001b[0m\u001b[0m\n\u001b[1;32m----> 2\u001b[1;33m \u001b[0msent\u001b[0m\u001b[1;33m.\u001b[0m\u001b[0mrindex\u001b[0m\u001b[1;33m(\u001b[0m\u001b[1;34m\"@\"\u001b[0m\u001b[1;33m)\u001b[0m\u001b[1;33m\u001b[0m\u001b[1;33m\u001b[0m\u001b[0m\n\u001b[0m\u001b[0;32m      3\u001b[0m \u001b[1;31m# it will give the last time repetation index value of the alpha or word in brackets here o last time\u001b[0m\u001b[1;33m\u001b[0m\u001b[1;33m\u001b[0m\u001b[0m\n\u001b[0;32m      4\u001b[0m \u001b[1;31m# occur in dog so 40 is last indedex\u001b[0m\u001b[1;33m\u001b[0m\u001b[1;33m\u001b[0m\u001b[0m\n",
      "\u001b[1;31mValueError\u001b[0m: substring not found"
     ]
    }
   ],
   "source": [
    "sent = \"the quick brown fox jump over the lazy dog\"\n",
    "sent.rindex(\"o\")\n",
    "# it will give the last time repetation index value of the alpha or word in brackets here o last time\n",
    "# occur in dog so 40 is last indedex and if demand is nao available in given para then get redy for error"
   ]
  },
  {
   "cell_type": "code",
   "execution_count": 165,
   "id": "4b6952d9",
   "metadata": {},
   "outputs": [
    {
     "data": {
      "text/plain": [
       "39"
      ]
     },
     "execution_count": 165,
     "metadata": {},
     "output_type": "execute_result"
    }
   ],
   "source": [
    "sent = \"the quick brown fox jump over the lazy dog\"\n",
    "sent.find(\"dog\")\n",
    "# it will print the first occuring index of our demanded character "
   ]
  },
  {
   "cell_type": "code",
   "execution_count": 166,
   "id": "926efd20",
   "metadata": {},
   "outputs": [
    {
     "data": {
      "text/plain": [
       "-1"
      ]
     },
     "execution_count": 166,
     "metadata": {},
     "output_type": "execute_result"
    }
   ],
   "source": [
    "sent = \"the quick brown fox jump over the lazy dog\"\n",
    "sent.find(\"@@\")\n",
    "# but if your demanded chars are not present there then you will get -1 "
   ]
  },
  {
   "cell_type": "code",
   "execution_count": 168,
   "id": "a832fcd7",
   "metadata": {},
   "outputs": [
    {
     "data": {
      "text/plain": [
       "40"
      ]
     },
     "execution_count": 168,
     "metadata": {},
     "output_type": "execute_result"
    }
   ],
   "source": [
    "sent = \"the quick brown fox jump over the lazy dog\"\n",
    "sent.rfind(\"o\")\n",
    "# it will give last repeting index of demanded char but if not present then it will show -1 not give eror"
   ]
  },
  {
   "cell_type": "code",
   "execution_count": 170,
   "id": "834aa2e1",
   "metadata": {},
   "outputs": [
    {
     "data": {
      "text/plain": [
       "4"
      ]
     },
     "execution_count": 170,
     "metadata": {},
     "output_type": "execute_result"
    }
   ],
   "source": [
    "sent = \"the quick brown fox jump over the lazy dog\"\n",
    "sent.count(\"o\")\n",
    "# it will count the number of demanded chars inn a given string"
   ]
  },
  {
   "cell_type": "code",
   "execution_count": 171,
   "id": "1aaf2535",
   "metadata": {},
   "outputs": [
    {
     "data": {
      "text/plain": [
       "False"
      ]
     },
     "execution_count": 171,
     "metadata": {},
     "output_type": "execute_result"
    }
   ],
   "source": [
    "sent = \"the quick brown fox jump over the lazy dog\"\n",
    "sent.startswith(\"@@\")\n",
    "# ir will cheak whether your string ends with demanded char or not return in true and False "
   ]
  },
  {
   "cell_type": "code",
   "execution_count": 172,
   "id": "858d060f",
   "metadata": {},
   "outputs": [
    {
     "data": {
      "text/plain": [
       "True"
      ]
     },
     "execution_count": 172,
     "metadata": {},
     "output_type": "execute_result"
    }
   ],
   "source": [
    "sent = \"the quick brown fox jump over the lazy dog\"\n",
    "sent.startswith(\"t\")\n",
    "# ir will cheak whether your string ends with demanded char or not return in true and False "
   ]
  },
  {
   "cell_type": "code",
   "execution_count": 173,
   "id": "797f8318",
   "metadata": {},
   "outputs": [
    {
     "data": {
      "text/plain": [
       "False"
      ]
     },
     "execution_count": 173,
     "metadata": {},
     "output_type": "execute_result"
    }
   ],
   "source": [
    "sent = \"the quick brown fox jump over the lazy dog\"\n",
    "sent.endswith(\"@@\")\n",
    "# ir will cheak whether your string ends with demanded char or not return in true and False "
   ]
  },
  {
   "cell_type": "code",
   "execution_count": 174,
   "id": "c9d68921",
   "metadata": {},
   "outputs": [
    {
     "data": {
      "text/plain": [
       "True"
      ]
     },
     "execution_count": 174,
     "metadata": {},
     "output_type": "execute_result"
    }
   ],
   "source": [
    "sent = \"the quick brown fox jump over the lazy dog\"\n",
    "sent.endswith(\"g\")\n",
    "# ir will cheak whether your string ends with demanded char or not return in true and False "
   ]
  },
  {
   "cell_type": "code",
   "execution_count": 177,
   "id": "7b41d93d",
   "metadata": {},
   "outputs": [
    {
     "data": {
      "text/plain": [
       "False"
      ]
     },
     "execution_count": 177,
     "metadata": {},
     "output_type": "execute_result"
    }
   ],
   "source": [
    "string = \"sau@123\"\n",
    "string.isalnum()\n",
    "# this function states that whether the given string consists of inly aplha num or not return in bool datatype"
   ]
  },
  {
   "cell_type": "code",
   "execution_count": 181,
   "id": "802d275d",
   "metadata": {},
   "outputs": [
    {
     "data": {
      "text/plain": [
       "True"
      ]
     },
     "execution_count": 181,
     "metadata": {},
     "output_type": "execute_result"
    }
   ],
   "source": [
    "string = \"sau\"\n",
    "string.isalnum()\n",
    "# if any one of both is present then also it gives true but not other chars allow rstherthan alphanum"
   ]
  },
  {
   "cell_type": "code",
   "execution_count": 185,
   "id": "297168c4",
   "metadata": {},
   "outputs": [
    {
     "data": {
      "text/plain": [
       "True"
      ]
     },
     "execution_count": 185,
     "metadata": {},
     "output_type": "execute_result"
    }
   ],
   "source": [
    "string = \"89\"\n",
    "string.isdigit()\n",
    "# only  dijits are present then  true rather than false "
   ]
  },
  {
   "cell_type": "code",
   "execution_count": 186,
   "id": "15aa3009",
   "metadata": {},
   "outputs": [
    {
     "data": {
      "text/plain": [
       "False"
      ]
     },
     "execution_count": 186,
     "metadata": {},
     "output_type": "execute_result"
    }
   ],
   "source": [
    "string = \"89a\"\n",
    "string.isdigit()\n",
    "# only  dijits are present then  true rather than false "
   ]
  },
  {
   "cell_type": "code",
   "execution_count": 187,
   "id": "d8eb4def",
   "metadata": {},
   "outputs": [
    {
     "data": {
      "text/plain": [
       "True"
      ]
     },
     "execution_count": 187,
     "metadata": {},
     "output_type": "execute_result"
    }
   ],
   "source": [
    "sent = \"the quick brown fox jump over the lazy dog\"\n",
    "sent.islower()\n",
    "# it cheakes given sring is completely in lowercase or not"
   ]
  },
  {
   "cell_type": "code",
   "execution_count": 189,
   "id": "9044a501",
   "metadata": {},
   "outputs": [
    {
     "data": {
      "text/plain": [
       "False"
      ]
     },
     "execution_count": 189,
     "metadata": {},
     "output_type": "execute_result"
    }
   ],
   "source": [
    "sent = \"the quick browN fox jump over the lazy dog\"\n",
    "sent.islower()\n",
    "# it cheakes given sring is completely in lowercase or not HERE N IS CAPITAL "
   ]
  },
  {
   "cell_type": "code",
   "execution_count": 195,
   "id": "45b2ffa0",
   "metadata": {},
   "outputs": [
    {
     "data": {
      "text/plain": [
       "False"
      ]
     },
     "execution_count": 195,
     "metadata": {},
     "output_type": "execute_result"
    }
   ],
   "source": [
    "sent = \"THE qUICK BROWN FOX JUMP OVER THE LAZY DOG'\"\n",
    "sent.isupper()\n",
    "# complete string is in uppercase but q is in lowercase hence its false "
   ]
  },
  {
   "cell_type": "code",
   "execution_count": 196,
   "id": "98a94d54",
   "metadata": {},
   "outputs": [
    {
     "data": {
      "text/plain": [
       "True"
      ]
     },
     "execution_count": 196,
     "metadata": {},
     "output_type": "execute_result"
    }
   ],
   "source": [
    "sent = \"THE QUICK BROWN FOX JUMP OVER THE LAZY DOG'\"\n",
    "sent.isupper()\n",
    "# complete string is in uppercase hence true"
   ]
  },
  {
   "cell_type": "code",
   "execution_count": 197,
   "id": "a3e902bb",
   "metadata": {},
   "outputs": [
    {
     "data": {
      "text/plain": [
       "True"
      ]
     },
     "execution_count": 197,
     "metadata": {},
     "output_type": "execute_result"
    }
   ],
   "source": [
    "sent = \" \"\n",
    "sent.isspace()\n",
    "# if string is consists of only ehitespace then it will give true any char is there then false"
   ]
  },
  {
   "cell_type": "code",
   "execution_count": 198,
   "id": "3cd72565",
   "metadata": {},
   "outputs": [
    {
     "data": {
      "text/plain": [
       "False"
      ]
     },
     "execution_count": 198,
     "metadata": {},
     "output_type": "execute_result"
    }
   ],
   "source": [
    "sent = \"s          \"\n",
    "sent.isspace()\n",
    "# char s is there so its false "
   ]
  },
  {
   "cell_type": "code",
   "execution_count": 14,
   "id": "abf0de51",
   "metadata": {},
   "outputs": [
    {
     "name": "stdout",
     "output_type": "stream",
     "text": [
      "True\n"
     ]
    }
   ],
   "source": [
    "a = \"Lord Of The Flies\"\n",
    "print(a.istitle())\n",
    "# in titlecase only and every first alpha bate after space should be captial"
   ]
  },
  {
   "cell_type": "code",
   "execution_count": 17,
   "id": "483a5fb4",
   "metadata": {},
   "outputs": [
    {
     "name": "stdout",
     "output_type": "stream",
     "text": [
      "False\n"
     ]
    }
   ],
   "source": [
    "a = \"Hum Bharat KE Rakshak Hai\"\n",
    "print(a.istitle())\n",
    "# in titlecase only and every first alpha bate after space should be captial then only true nither false "
   ]
  },
  {
   "cell_type": "code",
   "execution_count": 206,
   "id": "934def51",
   "metadata": {},
   "outputs": [
    {
     "data": {
      "text/plain": [
       "'honprograming'"
      ]
     },
     "execution_count": 206,
     "metadata": {},
     "output_type": "execute_result"
    }
   ],
   "source": [
    "sent = \"pythonprograming\"\n",
    "sent.removeprefix(\"pyt\")\n",
    "# it will remove the prefix "
   ]
  },
  {
   "cell_type": "code",
   "execution_count": 209,
   "id": "142ae5fe",
   "metadata": {},
   "outputs": [
    {
     "data": {
      "text/plain": [
       "'jay pythonprogram'"
      ]
     },
     "execution_count": 209,
     "metadata": {},
     "output_type": "execute_result"
    }
   ],
   "source": [
    "sent = \"jay pythonprograming\"\n",
    "sent.removesuffix(\"ing\")\n",
    "# it will remove the suffix "
   ]
  },
  {
   "cell_type": "code",
   "execution_count": 2,
   "id": "c9ef8c2c",
   "metadata": {},
   "outputs": [
    {
     "data": {
      "text/plain": [
       "'pythonprograming'"
      ]
     },
     "execution_count": 2,
     "metadata": {},
     "output_type": "execute_result"
    }
   ],
   "source": [
    "sent = \"pythonprograming\"\n",
    "sent.removesuffix(\"prog\")\n",
    "# if you donot give suffix only then it will  return the string"
   ]
  },
  {
   "cell_type": "code",
   "execution_count": 8,
   "id": "5ab52bde",
   "metadata": {},
   "outputs": [],
   "source": [
    "s = \"hello world\"\n",
    "b = s[1:11]"
   ]
  },
  {
   "cell_type": "code",
   "execution_count": 2,
   "id": "32c50dd2",
   "metadata": {},
   "outputs": [
    {
     "name": "stdout",
     "output_type": "stream",
     "text": [
      "<class 'dict'>\n"
     ]
    }
   ],
   "source": [
    "a = {}\n",
    "print(type(a))"
   ]
  },
  {
   "cell_type": "code",
   "execution_count": null,
   "id": "07cb455b",
   "metadata": {},
   "outputs": [],
   "source": []
  }
 ],
 "metadata": {
  "kernelspec": {
   "display_name": "Python 3 (ipykernel)",
   "language": "python",
   "name": "python3"
  },
  "language_info": {
   "codemirror_mode": {
    "name": "ipython",
    "version": 3
   },
   "file_extension": ".py",
   "mimetype": "text/x-python",
   "name": "python",
   "nbconvert_exporter": "python",
   "pygments_lexer": "ipython3",
   "version": "3.9.13"
  }
 },
 "nbformat": 4,
 "nbformat_minor": 5
}
