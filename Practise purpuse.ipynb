{
 "cells": [
  {
   "cell_type": "code",
   "execution_count": 17,
   "id": "76205a98",
   "metadata": {},
   "outputs": [
    {
     "name": "stdout",
     "output_type": "stream",
     "text": [
      "enter the number: 7821063741\n",
      "39\n",
      "12\n"
     ]
    }
   ],
   "source": [
    "n = int(input(\"enter the number: \"))\n",
    "add = 0\n",
    "while n > 0:\n",
    "    add = add + n % 10\n",
    "    n = n // 10\n",
    "print(add)  \n",
    "NewRem = add % 10\n",
    "NewQut = add // 10\n",
    "print(NewRem + NewQut)\n"
   ]
  },
  {
   "cell_type": "code",
   "execution_count": null,
   "id": "8fcd775d",
   "metadata": {},
   "outputs": [],
   "source": []
  }
 ],
 "metadata": {
  "kernelspec": {
   "display_name": "Python 3 (ipykernel)",
   "language": "python",
   "name": "python3"
  },
  "language_info": {
   "codemirror_mode": {
    "name": "ipython",
    "version": 3
   },
   "file_extension": ".py",
   "mimetype": "text/x-python",
   "name": "python",
   "nbconvert_exporter": "python",
   "pygments_lexer": "ipython3",
   "version": "3.9.13"
  }
 },
 "nbformat": 4,
 "nbformat_minor": 5
}
