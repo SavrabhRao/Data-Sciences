{
 "cells": [
  {
   "cell_type": "markdown",
   "id": "7ebe92b3",
   "metadata": {},
   "source": [
    "# WHILE LOOP"
   ]
  },
  {
   "cell_type": "code",
   "execution_count": 5,
   "id": "b4d1c1db",
   "metadata": {},
   "outputs": [
    {
     "name": "stdout",
     "output_type": "stream",
     "text": [
      "hello world\n"
     ]
    }
   ],
   "source": [
    "i=0\n",
    "while i<=2:\n",
    "    print(\"hello world\")\n",
    "# here we can see that while condition is true forever hence it will execute for infinity"
   ]
  },
  {
   "cell_type": "code",
   "execution_count": 20,
   "id": "1e188c8d",
   "metadata": {},
   "outputs": [
    {
     "name": "stdout",
     "output_type": "stream",
     "text": [
      "0 1 2 3 4 5 6 7 8 9 10 11 12 13 14 15 16 17 18 19 20 21 22 23 24 25 26 27 28 29 30 31 32 33 34 35 36 37 38 39 40 41 42 43 44 45 46 47 48 49 50 51 52 53 54 55 56 57 58 59 60 61 62 63 64 65 66 67 68 69 70 71 72 73 74 75 76 77 78 79 80 81 82 83 84 85 86 87 88 89 90 91 92 93 94 95 96 97 98 99 100 "
     ]
    }
   ],
   "source": [
    "i = 0 # this initilisation is must\n",
    "while i<=100:\n",
    "    print(i,end=\" \") # this will print the values in a single line\n",
    "    i=i+1\n",
    "# to print 1 to 100 "
   ]
  },
  {
   "cell_type": "code",
   "execution_count": 22,
   "id": "f80db68d",
   "metadata": {},
   "outputs": [
    {
     "name": "stdout",
     "output_type": "stream",
     "text": [
      "0 3 6 9 12 15 18 21 24 27 30 33 36 39 42 45 48 51 54 57 60 63 66 69 72 75 78 81 84 87 90 93 96 99 "
     ]
    }
   ],
   "source": [
    "# wap a loop program to print table of 3\n",
    "i = 0\n",
    "while i<=100:\n",
    "    print(i,end=\" \")\n",
    "    i = i + 3"
   ]
  },
  {
   "cell_type": "code",
   "execution_count": 24,
   "id": "6f355f6e",
   "metadata": {},
   "outputs": [
    {
     "name": "stdout",
     "output_type": "stream",
     "text": [
      "1 3 5 7 9 11 13 15 17 19 21 23 25 27 29 31 33 35 37 39 41 43 45 47 49 51 53 55 57 59 61 63 65 67 69 71 73 75 77 79 81 83 85 87 89 91 93 95 97 99 "
     ]
    }
   ],
   "source": [
    "# wap a progran to print odd numbers\n",
    "i = 1\n",
    "while i <= 100:\n",
    "    print(i,end = \" \") \n",
    "    i = i + 2"
   ]
  },
  {
   "cell_type": "code",
   "execution_count": 27,
   "id": "1eb7f241",
   "metadata": {},
   "outputs": [
    {
     "name": "stdout",
     "output_type": "stream",
     "text": [
      "5 10 15 20 25 30 35 40 45 50 55 60 65 70 75 80 85 90 95 100 "
     ]
    }
   ],
   "source": [
    "# wap ro print the table of 5\n",
    "i = 5\n",
    "while i<=100:\n",
    "    print(i,end=\" \")\n",
    "    i = i + 5"
   ]
  },
  {
   "cell_type": "code",
   "execution_count": 30,
   "id": "dc5c4972",
   "metadata": {},
   "outputs": [
    {
     "name": "stdout",
     "output_type": "stream",
     "text": [
      "100 99 98 97 96 95 94 93 92 91 90 89 88 87 86 85 84 83 82 81 80 79 78 77 76 75 74 73 72 71 70 69 68 67 66 65 64 63 62 61 60 59 58 57 56 55 54 53 52 51 50 49 48 47 46 45 44 43 42 41 40 39 38 37 36 35 34 33 32 31 30 29 28 27 26 25 24 23 22 21 20 19 18 17 16 15 14 13 12 11 10 9 8 7 6 5 4 3 2 1 0 "
     ]
    }
   ],
   "source": [
    "x = 100\n",
    "while x>=0:\n",
    "    print(x,end=\" \")\n",
    "    x = x-1"
   ]
  },
  {
   "cell_type": "code",
   "execution_count": 42,
   "id": "3fdab0d3",
   "metadata": {},
   "outputs": [
    {
     "name": "stdout",
     "output_type": "stream",
     "text": [
      "1 hello world 2 hello world 3 hello world 4 hello world 5 hello world 6 hello world 7 hello world 8 hello world 9 hello world 10 hello world 11 hello world 12 hello world 13 hello world 14 hello world 15 hello world 16 hello world 17 hello world 18 hello world 19 hello world 20 hello world "
     ]
    }
   ],
   "source": [
    "# infinite loop termination\n",
    "i = 1\n",
    "while True:\n",
    "    print(i,\"hello world\",end=\" \")\n",
    "    i = i + 1\n",
    "    if i==21: # if this condition satiesfie then the loop will break\n",
    "        break\n"
   ]
  },
  {
   "cell_type": "code",
   "execution_count": 44,
   "id": "23350424",
   "metadata": {},
   "outputs": [
    {
     "name": "stdout",
     "output_type": "stream",
     "text": [
      "1 hello world 2 hello world 3 hello world 4 hello world 5 hello world 6 hello world 7 hello world 8 hello world 9 hello world 10 hello world 11 hello world 12 hello world 13 hello world 14 hello world 15 hello world 16 hello world 17 hello world 18 hello world 19 hello world 20 hello world "
     ]
    }
   ],
   "source": [
    "# infinite loop termination\n",
    "i = 0\n",
    "while True:\n",
    "    i = i + 1\n",
    "    if i<=20:\n",
    "        print(i,\"hello world\",end=\" \")\n",
    "        if i==20:\n",
    "            break\n"
   ]
  },
  {
   "cell_type": "code",
   "execution_count": 51,
   "id": "db5488ce",
   "metadata": {},
   "outputs": [
    {
     "name": "stdout",
     "output_type": "stream",
     "text": [
      "0\n",
      "1\n",
      "2\n",
      "3\n",
      "whiles condition is failed\n"
     ]
    }
   ],
   "source": [
    "# in while else loop else part will satisfy only when initiating condition of while loop will fail\n",
    "i = 0 \n",
    "while i<=3:\n",
    "    print(i)\n",
    "    i = i+1\n",
    "    if i==7:\n",
    "        break\n",
    "else:\n",
    "    print(\"whiles condition is failed\")"
   ]
  },
  {
   "cell_type": "code",
   "execution_count": 57,
   "id": "616e7b0c",
   "metadata": {},
   "outputs": [
    {
     "name": "stdout",
     "output_type": "stream",
     "text": [
      "enter number34\n",
      "enter number56\n",
      "enter number#\n",
      "112\n"
     ]
    }
   ],
   "source": [
    "# wap to find the sum of all numbers input by user\n",
    "add = 0\n",
    "while True:\n",
    "    a = input(\"enter number\")\n",
    "    if a==\"#\":\n",
    "        break\n",
    "    a = int(a)\n",
    "    add = add + b\n",
    "print(add)\n"
   ]
  },
  {
   "cell_type": "code",
   "execution_count": 63,
   "id": "297b2cae",
   "metadata": {
    "scrolled": true
   },
   "outputs": [
    {
     "name": "stdout",
     "output_type": "stream",
     "text": [
      "enter element for the list23\n",
      "enter element for the list45\n",
      "enter element for the list67\n",
      "enter element for the list89\n",
      "enter element for the list#\n",
      "[23, 45, 67, 89]\n",
      "the length of the given list is: 4\n"
     ]
    }
   ],
   "source": [
    "l=[]\n",
    "while True:\n",
    "    a =input(\"enter element for the list\")   \n",
    "    if a==\"#\":\n",
    "        break\n",
    "    a = int(a)\n",
    "    l.append(a)\n",
    "    \n",
    "print(l)\n",
    "print(\"the length of the given list is:\",len(l))"
   ]
  },
  {
   "cell_type": "code",
   "execution_count": 115,
   "id": "46cb75f2",
   "metadata": {},
   "outputs": [
    {
     "name": "stdout",
     "output_type": "stream",
     "text": [
      "[34, 45, 67, 2, 2, 2, 34, 56, 5, 5, 5, 6]\n"
     ]
    }
   ],
   "source": []
  },
  {
   "cell_type": "code",
   "execution_count": 22,
   "id": "10073332",
   "metadata": {},
   "outputs": [
    {
     "name": "stdout",
     "output_type": "stream",
     "text": [
      "[13, 45, 56, 56, 34, 56, 12, 23]\n"
     ]
    }
   ],
   "source": [
    "a =  [12,12,12,12,13,12,45,12,56,12,12,56,12,34,56,12,23]\n",
    "i = 0\n",
    "while i<= len(a):\n",
    "        if a.count(12)==0:\n",
    "            break\n",
    "        a.remove(12)\n",
    "        i = i + 1\n",
    "print(a)\n"
   ]
  },
  {
   "cell_type": "code",
   "execution_count": 1,
   "id": "dfac1267",
   "metadata": {},
   "outputs": [
    {
     "name": "stdout",
     "output_type": "stream",
     "text": [
      "13\n",
      "26\n",
      "39\n",
      "52\n",
      "65\n",
      "78\n",
      "91\n"
     ]
    }
   ],
   "source": [
    "i = 13\n",
    "while i<=100:\n",
    "    print(i)\n",
    "    i=i+13\n",
    "        "
   ]
  },
  {
   "cell_type": "code",
   "execution_count": null,
   "id": "08ec52b1",
   "metadata": {},
   "outputs": [
    {
     "name": "stdout",
     "output_type": "stream",
     "text": [
      "enter the mobail number: 234\n"
     ]
    }
   ],
   "source": [
    "i = 0\n",
    "add = 0\n",
    "a = int(input(\"enter the mobail number: \"))\n",
    "while True:\n",
    "    b=a%10\n",
    "    add = add+b\n",
    "    print(add)\n",
    "    \n",
    "    \n",
    "    "
   ]
  },
  {
   "cell_type": "code",
   "execution_count": 12,
   "id": "dce25553",
   "metadata": {},
   "outputs": [
    {
     "name": "stdout",
     "output_type": "stream",
     "text": [
      "0 hello world 1 hello world 2 hello world 3 hello world 4 hello world 5 hello world 6 hello world 7 hello world 8 hello world 9 hello world 10 hello world 11 hello world 12 hello world 13 hello world 14 hello world 15 hello world 16 hello world 17 hello world 18 hello world 19 hello world 20 hello world 21 hello world 22 hello world 23 hello world 24 hello world 25 hello world 26 hello world 27 hello world 28 hello world 29 hello world 30 hello world 31 hello world 32 hello world 33 hello world 34 hello world 35 hello world 36 hello world 37 hello world 38 hello world 39 hello world 40 hello world 41 hello world 42 hello world 43 hello world 44 hello world 45 hello world 46 hello world 47 hello world 48 hello world 49 hello world 50 hello world 51 hello world 52 hello world 53 hello world 54 hello world 55 hello world 56 hello world 57 hello world 58 hello world 59 hello world 60 hello world 61 hello world 62 hello world 63 hello world 64 hello world 65 hello world 66 hello world 67 hello world 68 hello world 69 hello world 70 hello world 71 hello world 72 hello world 73 hello world 74 hello world 75 hello world 76 hello world 77 hello world 78 hello world 79 hello world 80 hello world 81 hello world 82 hello world 83 hello world 84 hello world 85 hello world 86 hello world 87 hello world 88 hello world 89 hello world 90 hello world 91 hello world 92 hello world 93 hello world 94 hello world 95 hello world 96 hello world 97 hello world 98 hello world 99 hello world 100 hello world "
     ]
    }
   ],
   "source": [
    "i = 0\n",
    "while i<=100:\n",
    "    print(f\"{i} hello world\",end = \" \")\n",
    "    i=i+1"
   ]
  },
  {
   "cell_type": "code",
   "execution_count": 3,
   "id": "328afc5a",
   "metadata": {},
   "outputs": [
    {
     "name": "stdout",
     "output_type": "stream",
     "text": [
      "enter the number7821063741\n",
      "12\n"
     ]
    }
   ],
   "source": [
    "n = int(input(\"enter the number\"))\n",
    "sum = 0\n",
    "while n > 0:\n",
    "    b = n % 10\n",
    "    sum = sum + b\n",
    "    n = n // 10\n",
    "rum = sum %10\n",
    "gum = sum // 10\n",
    "dum = rum + gum\n",
    "print(dum)"
   ]
  },
  {
   "cell_type": "markdown",
   "id": "8db7b967",
   "metadata": {},
   "source": [
    "# FOR LOOP"
   ]
  },
  {
   "cell_type": "code",
   "execution_count": 9,
   "id": "996591b6",
   "metadata": {},
   "outputs": [
    {
     "name": "stdout",
     "output_type": "stream",
     "text": [
      "1 2 3 4 5 6 7 8 9 10 "
     ]
    }
   ],
   "source": [
    "for i in range(1,11):\n",
    "    print(i,end=\" \")\n"
   ]
  },
  {
   "cell_type": "code",
   "execution_count": 11,
   "id": "b64548a1",
   "metadata": {},
   "outputs": [
    {
     "name": "stdout",
     "output_type": "stream",
     "text": [
      "1 3 5 7 9 "
     ]
    }
   ],
   "source": [
    "for i in range(1,11,2):\n",
    "    print(i,end=\" \")"
   ]
  },
  {
   "cell_type": "code",
   "execution_count": 14,
   "id": "2db2c575",
   "metadata": {},
   "outputs": [
    {
     "name": "stdout",
     "output_type": "stream",
     "text": [
      "11\n",
      "27\n",
      "34\n",
      "45\n",
      "57\n",
      "64\n"
     ]
    }
   ],
   "source": [
    "l = [11,27,34,45,57,64]\n",
    "for i in l:\n",
    "    print(i)"
   ]
  },
  {
   "cell_type": "code",
   "execution_count": 17,
   "id": "7f7d8a40",
   "metadata": {},
   "outputs": [
    {
     "name": "stdout",
     "output_type": "stream",
     "text": [
      "1 * 5 = 5\n",
      "2 * 5 = 10\n",
      "3 * 5 = 15\n",
      "4 * 5 = 20\n",
      "5 * 5 = 25\n",
      "6 * 5 = 30\n",
      "7 * 5 = 35\n",
      "8 * 5 = 40\n",
      "9 * 5 = 45\n",
      "10 * 5 = 50\n"
     ]
    }
   ],
   "source": [
    "# print table if 5 \n",
    "for i in range(1,11):\n",
    "    print(i,\"*\",5,\"=\",i*5)"
   ]
  },
  {
   "cell_type": "code",
   "execution_count": 19,
   "id": "0b314450",
   "metadata": {},
   "outputs": [
    {
     "name": "stdout",
     "output_type": "stream",
     "text": [
      "11 hello world\n",
      "6 hello world\n",
      "5 hello world\n",
      "34 hello world\n",
      "78 hello world\n",
      "90 hello world\n",
      "2 hello world\n",
      "13 hello world\n",
      "45 hello world\n",
      "89 hello world\n"
     ]
    }
   ],
   "source": [
    "l = [11,6,5,34,78,90,2,13,45,89]\n",
    "for i in l:\n",
    "    print(i,\"hello world\")\n"
   ]
  },
  {
   "cell_type": "code",
   "execution_count": 20,
   "id": "ae35f4b8",
   "metadata": {},
   "outputs": [
    {
     "name": "stdout",
     "output_type": "stream",
     "text": [
      "23 ya its still working\n",
      "hello\n",
      "56 ya its still working\n",
      "hello\n",
      "34 ya its still working\n"
     ]
    }
   ],
   "source": [
    "# lets use break statment\n",
    "l = [23,56,34,23]\n",
    "for i in l:\n",
    "    print(i,\"ya its still working\")\n",
    "    if i==34:\n",
    "        break\n",
    "    print(\"hello\")"
   ]
  },
  {
   "cell_type": "code",
   "execution_count": 52,
   "id": "14610f9e",
   "metadata": {},
   "outputs": [
    {
     "name": "stdout",
     "output_type": "stream",
     "text": [
      "2\n",
      "2\n",
      "2\n",
      "2\n",
      "2\n",
      "[34, 56, 58, 90]\n"
     ]
    }
   ],
   "source": [
    "l = [2,34,2,56,2,58,2,90,2]\n",
    "for i in l:\n",
    "    print(i)\n",
    "    if i==2:\n",
    "        l.remove(2)\n",
    "        \n",
    "print(l)"
   ]
  },
  {
   "cell_type": "code",
   "execution_count": 39,
   "id": "9705a1a1",
   "metadata": {},
   "outputs": [
    {
     "name": "stdout",
     "output_type": "stream",
     "text": [
      "2\n",
      "2\n",
      "2\n",
      "58\n",
      "9\n"
     ]
    }
   ],
   "source": [
    "l = [2,34,2,56,2,3,58,9]\n",
    "for i in l:\n",
    "    print(i)\n",
    "    if i < 30:\n",
    "        l.remove(i)"
   ]
  },
  {
   "cell_type": "code",
   "execution_count": 40,
   "id": "6b74b8ba",
   "metadata": {},
   "outputs": [
    {
     "name": "stdout",
     "output_type": "stream",
     "text": [
      "[66, 77, 99]\n"
     ]
    }
   ],
   "source": [
    "my_list = [22, 33, 66, 77, 99]\n",
    "\n",
    "for item in my_list.copy():\n",
    "    if item < 50:\n",
    "        my_list.remove(item)\n",
    "\n",
    "print(my_list)"
   ]
  },
  {
   "cell_type": "code",
   "execution_count": 65,
   "id": "60f7e8a5",
   "metadata": {
    "scrolled": true
   },
   "outputs": [
    {
     "name": "stdout",
     "output_type": "stream",
     "text": [
      "[34, 56, 3, 58, 9]\n"
     ]
    }
   ],
   "source": [
    "l = [2,34,2,56,2,3,58,9]\n",
    "for i in l:\n",
    "    if i == 2:\n",
    "        l.remove(2)\n",
    "print(l)"
   ]
  },
  {
   "cell_type": "code",
   "execution_count": 75,
   "id": "2eba2d21",
   "metadata": {},
   "outputs": [
    {
     "name": "stdout",
     "output_type": "stream",
     "text": [
      "[34, 56, 58, 9]\n"
     ]
    }
   ],
   "source": [
    "l = [2,34,2,56,2,2,2,2,2,2,58,9]\n",
    "for i in l.copy():\n",
    "    if i == 2:\n",
    "        l.remove(i)\n",
    "print(l)\n",
    "# you cant remove the consecutive items using the for loop or while loop you have to use l.copy fun"
   ]
  },
  {
   "cell_type": "code",
   "execution_count": 77,
   "id": "9045f91c",
   "metadata": {},
   "outputs": [
    {
     "name": "stdout",
     "output_type": "stream",
     "text": [
      "[34, 56, 58, 9]\n"
     ]
    }
   ],
   "source": [
    "l = [2,34,2,56,2,2,2,2,2,2,58,9]\n",
    "l = list(filter(lambda x: x != 2, l))\n",
    "print(l)"
   ]
  },
  {
   "cell_type": "code",
   "execution_count": 86,
   "id": "5da2236b",
   "metadata": {},
   "outputs": [
    {
     "name": "stdout",
     "output_type": "stream",
     "text": [
      "skip skip 3 skip skip 6 skip skip 9 skip skip 12 skip skip 15 skip skip 18 skip skip 21 skip skip 24 skip skip 27 skip skip 30 skip skip 33 skip skip 36 skip skip 39 skip skip 42 skip skip 45 skip skip 48 skip skip 51 skip skip 54 skip skip 57 skip skip 60 skip skip 63 skip skip 66 skip skip 69 skip skip 72 skip skip 75 skip skip 78 skip skip 81 skip skip 84 skip skip 87 skip skip 90 skip skip 93 skip skip 96 skip skip 99 "
     ]
    }
   ],
   "source": [
    "for i in range(1,100):\n",
    "    if i%3==0:\n",
    "        print(i,end=\" \")\n",
    "        continue\n",
    "    print(\"skip\",end = \" \")"
   ]
  },
  {
   "cell_type": "code",
   "execution_count": 91,
   "id": "583a5df8",
   "metadata": {},
   "outputs": [
    {
     "name": "stdout",
     "output_type": "stream",
     "text": [
      "3\n"
     ]
    }
   ],
   "source": [
    "for i in range(1,5):\n",
    "    if i%3==0:\n",
    "        break\n",
    "print(i)"
   ]
  },
  {
   "cell_type": "code",
   "execution_count": 95,
   "id": "b4c704b4",
   "metadata": {},
   "outputs": [
    {
     "name": "stdout",
     "output_type": "stream",
     "text": [
      "enter a number: 876\n",
      "21\n"
     ]
    }
   ],
   "source": [
    "a = input(\"enter a number: \")\n",
    "sum = 0\n",
    "for i in a:\n",
    "    sum = sum + int(i)\n",
    "print(sum)"
   ]
  },
  {
   "cell_type": "code",
   "execution_count": 5,
   "id": "06bccea8",
   "metadata": {},
   "outputs": [
    {
     "name": "stdout",
     "output_type": "stream",
     "text": [
      "['89', '179', '189', '269', '279', '289', '359', '369', '379', '389', '459', '469', '479', '489', '569', '579', '589', '679', '689', '789', '1259', '1269', '1279', '1289', '1349', '1359', '1369', '1379', '1389', '1459', '1469', '1479', '1489', '1569', '1579', '1589', '1679', '1689', '1789', '2349', '2359', '2369', '2379', '2389', '2459', '2469', '2479', '2489', '2569', '2579', '2589', '2679', '2689', '2789', '3459', '3469', '3479', '3489', '3569', '3579', '3589', '3679', '3689', '3789', '4569', '4579', '4589', '4679', '4689', '4789', '5679', '5689', '5789', '6789']\n"
     ]
    }
   ],
   "source": [
    "l=[]\n",
    "z=[]\n",
    "\n",
    "plus = 0\n",
    "for i in range (1,10000):\n",
    "    if i%10==9:\n",
    "        i = str(i)\n",
    "        if int(i)>10 and int(i)<100 :\n",
    "            if int(i[0])<int(i[1]):\n",
    "                if (int(i[0])+int(i[1]))>=17:\n",
    "                    l.append(i)\n",
    "        elif int(i)>100 and int(i)<1000 :\n",
    "            if int(i[0])<int(i[1])<int(i[2]):\n",
    "                if (int(i[0])+int(i[1])+int(i[2]))>=17:\n",
    "                    if (int(i[0])+int(i[1])+int(i[2]))<=26:\n",
    "                        l.append(i)\n",
    "        elif int(i)>=1000 :\n",
    "            if  int(i[0])<int(i[1])<int(i[2])<int(i[3]):\n",
    "                if (int(i[0])+int(i[1])+int(i[2])+int(i[3]))>=17: \n",
    "                    if (int(i[0])+int(i[1])+int(i[2])+int(i[3]))<=35:\n",
    "                        l.append(i)\n",
    "print(l)\n",
    "        \n",
    "            \n",
    "    \n",
    "\n",
    "    \n"
   ]
  },
  {
   "cell_type": "code",
   "execution_count": 44,
   "id": "5664c5e9",
   "metadata": {},
   "outputs": [
    {
     "name": "stdout",
     "output_type": "stream",
     "text": [
      "2\n",
      "3\n",
      "4\n",
      "3\n",
      "4\n",
      "5\n",
      "4\n",
      "5\n",
      "6\n",
      "5\n",
      "6\n",
      "7\n",
      "6\n",
      "7\n",
      "8\n",
      "loop is over \n"
     ]
    }
   ],
   "source": [
    "l = [1,2,3,4,5]\n",
    "for i in l:\n",
    "    for j in range(1,5):\n",
    "        print(i+j)\n",
    "        if j == 3:\n",
    "            break\n",
    "print(\"loop is over \")"
   ]
  },
  {
   "cell_type": "code",
   "execution_count": 7,
   "id": "1f77b48d",
   "metadata": {
    "scrolled": true
   },
   "outputs": [
    {
     "name": "stdout",
     "output_type": "stream",
     "text": [
      "2\n",
      "3\n",
      "4\n",
      "loop is over \n",
      "3\n",
      "4\n",
      "5\n",
      "loop is over \n",
      "4\n",
      "5\n",
      "6\n",
      "loop is over \n",
      "5\n",
      "6\n",
      "7\n",
      "loop is over \n",
      "6\n",
      "7\n",
      "8\n",
      "loop is over \n"
     ]
    }
   ],
   "source": [
    "l = [1,2,3,4,5]\n",
    "for i in l:\n",
    "    for j in range(1,5):\n",
    "        print(i+j)\n",
    "        if j == 3:\n",
    "            break\n",
    "    print(\"loop is over \")\n",
    "# once the complete for loop is terminate then only the belowed code or statment will execute"
   ]
  },
  {
   "cell_type": "markdown",
   "id": "3a1a74f2",
   "metadata": {},
   "source": [
    "## NESTED FOR LOOPS"
   ]
  },
  {
   "cell_type": "code",
   "execution_count": 8,
   "id": "384c98c7",
   "metadata": {},
   "outputs": [
    {
     "name": "stdout",
     "output_type": "stream",
     "text": [
      "2\n",
      "loop is over \n",
      "3\n",
      "loop is over \n",
      "4\n",
      "3\n",
      "loop is over \n",
      "4\n",
      "loop is over \n",
      "5\n",
      "4\n",
      "loop is over \n",
      "5\n",
      "loop is over \n",
      "6\n",
      "5\n",
      "loop is over \n",
      "6\n",
      "loop is over \n",
      "7\n",
      "6\n",
      "loop is over \n",
      "7\n",
      "loop is over \n",
      "8\n"
     ]
    }
   ],
   "source": [
    "l = [1,2,3,4,5]\n",
    "for i in l:\n",
    "    for j in range(1,5):\n",
    "        print(i+j)\n",
    "        if j == 3:\n",
    "            break\n",
    "        print(\"loop is over \")"
   ]
  },
  {
   "cell_type": "code",
   "execution_count": 17,
   "id": "36aab40a",
   "metadata": {},
   "outputs": [
    {
     "name": "stdout",
     "output_type": "stream",
     "text": [
      "2\n",
      "3\n",
      "4\n",
      "3\n",
      "4\n",
      "5\n",
      "4\n",
      "5\n",
      "6\n",
      "5\n",
      "6\n",
      "7\n"
     ]
    }
   ],
   "source": [
    "l = [1,2,3,4]\n",
    "for i in l:\n",
    "    for j in range(1,5):\n",
    "        if j == 4:\n",
    "            break\n",
    "        print(i+j)"
   ]
  },
  {
   "cell_type": "code",
   "execution_count": 5,
   "id": "e38ab97f",
   "metadata": {},
   "outputs": [
    {
     "name": "stdout",
     "output_type": "stream",
     "text": [
      "saurah\n",
      "gaurav\n"
     ]
    }
   ],
   "source": [
    "print(\"saurah\")\n",
    "print(\"gaurav\")"
   ]
  },
  {
   "cell_type": "code",
   "execution_count": null,
   "id": "610e4b46",
   "metadata": {},
   "outputs": [],
   "source": [
    "\n",
    "    "
   ]
  },
  {
   "cell_type": "code",
   "execution_count": null,
   "id": "e245990d",
   "metadata": {},
   "outputs": [],
   "source": []
  }
 ],
 "metadata": {
  "kernelspec": {
   "display_name": "Python 3 (ipykernel)",
   "language": "python",
   "name": "python3"
  },
  "language_info": {
   "codemirror_mode": {
    "name": "ipython",
    "version": 3
   },
   "file_extension": ".py",
   "mimetype": "text/x-python",
   "name": "python",
   "nbconvert_exporter": "python",
   "pygments_lexer": "ipython3",
   "version": "3.9.13"
  }
 },
 "nbformat": 4,
 "nbformat_minor": 5
}
