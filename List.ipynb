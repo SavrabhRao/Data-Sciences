{
 "cells": [
  {
   "cell_type": "code",
   "execution_count": 1,
   "id": "00b563f3",
   "metadata": {},
   "outputs": [
    {
     "name": "stdout",
     "output_type": "stream",
     "text": [
      "<class 'list'>\n"
     ]
    }
   ],
   "source": [
    "a = []\n",
    "print(type(a))\n",
    "# method of witing string"
   ]
  },
  {
   "cell_type": "code",
   "execution_count": 2,
   "id": "861d437b",
   "metadata": {},
   "outputs": [
    {
     "name": "stdout",
     "output_type": "stream",
     "text": [
      "[]\n"
     ]
    }
   ],
   "source": [
    "a = list()\n",
    "print(a)\n",
    "# we can also write string likr this"
   ]
  },
  {
   "cell_type": "code",
   "execution_count": 3,
   "id": "5c752f88",
   "metadata": {},
   "outputs": [
    {
     "name": "stdout",
     "output_type": "stream",
     "text": [
      "[]\n"
     ]
    }
   ],
   "source": [
    "a = []\n",
    "print(a)\n",
    "# empty list"
   ]
  },
  {
   "cell_type": "code",
   "execution_count": 4,
   "id": "3536d3e5",
   "metadata": {},
   "outputs": [
    {
     "name": "stdout",
     "output_type": "stream",
     "text": [
      "[12, 13, 'saurabh', True, 14.5]\n"
     ]
    }
   ],
   "source": [
    "a = [12,13,\"saurabh\",True,14.5]\n",
    "print(a)\n",
    "# each element in list called as the item"
   ]
  },
  {
   "cell_type": "code",
   "execution_count": 5,
   "id": "85055158",
   "metadata": {},
   "outputs": [
    {
     "name": "stdout",
     "output_type": "stream",
     "text": [
      "5\n"
     ]
    }
   ],
   "source": [
    "a = [12,13,\"saurabh\",True,14.5]\n",
    "print(len(a))"
   ]
  },
  {
   "cell_type": "code",
   "execution_count": 6,
   "id": "26809efa",
   "metadata": {},
   "outputs": [
    {
     "name": "stdout",
     "output_type": "stream",
     "text": [
      "[12, [13, 'raj'], 'saurabh', True, 14.5]\n"
     ]
    }
   ],
   "source": [
    "a = [12,[13,\"raj\"],\"saurabh\",True,14.5]\n",
    "# list can contain the each and every data types element together hence it is hetrogeneous datatype\n",
    "print(a)\n"
   ]
  },
  {
   "cell_type": "code",
   "execution_count": 7,
   "id": "ad3f06a3",
   "metadata": {},
   "outputs": [
    {
     "name": "stdout",
     "output_type": "stream",
     "text": [
      "[[[[12, 13, 87, 'saurabh'], 5], 6], 'rao']\n"
     ]
    }
   ],
   "source": [
    "a=[[[[12,13,87,\"saurabh\"],5],6],\"rao\"]\n",
    "# this type of list is also called as the nested list\n",
    "print(a)\n"
   ]
  },
  {
   "cell_type": "code",
   "execution_count": 18,
   "id": "b1f4086c",
   "metadata": {},
   "outputs": [
    {
     "name": "stdout",
     "output_type": "stream",
     "text": [
      "[12, 13, 14, 'rao']\n"
     ]
    }
   ],
   "source": [
    "a = [12,13,14,\"rao\"]\n",
    "print(a[0:4])\n",
    "# in list slicing happen like this "
   ]
  },
  {
   "cell_type": "code",
   "execution_count": 16,
   "id": "baf76b65",
   "metadata": {},
   "outputs": [
    {
     "name": "stdout",
     "output_type": "stream",
     "text": [
      "ura\n"
     ]
    }
   ],
   "source": [
    "a=[[[[12,13,87,\"saurabh\"],5],6],\"rao\"]\n",
    "# access the 'ura' from given list\n",
    "print(a[0][0][0][3][2:5])\n",
    "# we can do slicing of string present in list also \n"
   ]
  },
  {
   "cell_type": "code",
   "execution_count": 21,
   "id": "fc4d8a34",
   "metadata": {},
   "outputs": [
    {
     "name": "stdout",
     "output_type": "stream",
     "text": [
      "2527307877376\n",
      "[12, 13, 'updated value', 15]\n",
      "2527307877376\n"
     ]
    }
   ],
   "source": [
    "a = [12,13,14,15]\n",
    "print(id(a))\n",
    "a[2]=\"updated value\"\n",
    "print(a)\n",
    "print(id(a))\n",
    "# we can update the list also withene same object for that lets cheak tee id\n",
    "# ew can see in output that memory location is same means its updated \n",
    "# hence the list is also called the mutable datatype"
   ]
  },
  {
   "cell_type": "code",
   "execution_count": 22,
   "id": "16ef9e14",
   "metadata": {},
   "outputs": [
    {
     "name": "stdout",
     "output_type": "stream",
     "text": [
      "[[[[12, 13, 87, 'updated saurabh'], 5], 6], 'rao']\n"
     ]
    }
   ],
   "source": [
    "a=[[[[12,13,87,\"saurabh\"],5],6],\"rao\"] \n",
    "# update \"saurabh\" as updated saurabh\n",
    "a[0][0][0][3]=\"updated saurabh\"\n",
    "print(a)"
   ]
  },
  {
   "cell_type": "code",
   "execution_count": 11,
   "id": "7a0d9624",
   "metadata": {},
   "outputs": [
    {
     "name": "stdout",
     "output_type": "stream",
     "text": [
      "12\n",
      "rao\n"
     ]
    }
   ],
   "source": [
    "a = [12,13,14,\"rao\"]\n",
    "print(a[0])\n",
    "print(a[3])\n",
    "# this is how we can access the item using the index values"
   ]
  },
  {
   "cell_type": "code",
   "execution_count": 12,
   "id": "deff0dfe",
   "metadata": {},
   "outputs": [
    {
     "ename": "TypeError",
     "evalue": "'int' object is not subscriptable",
     "output_type": "error",
     "traceback": [
      "\u001b[1;31m---------------------------------------------------------------------------\u001b[0m",
      "\u001b[1;31mTypeError\u001b[0m                                 Traceback (most recent call last)",
      "\u001b[1;32m~\\AppData\\Local\\Temp\\ipykernel_836\\2035700248.py\u001b[0m in \u001b[0;36m<module>\u001b[1;34m\u001b[0m\n\u001b[0;32m      1\u001b[0m \u001b[0ma\u001b[0m \u001b[1;33m=\u001b[0m \u001b[1;33m[\u001b[0m\u001b[1;36m12\u001b[0m\u001b[1;33m,\u001b[0m\u001b[1;36m23\u001b[0m\u001b[1;33m,\u001b[0m\u001b[1;36m45\u001b[0m\u001b[1;33m,\u001b[0m\u001b[1;36m67\u001b[0m\u001b[1;33m]\u001b[0m\u001b[1;33m\u001b[0m\u001b[1;33m\u001b[0m\u001b[0m\n\u001b[0;32m      2\u001b[0m \u001b[1;33m\u001b[0m\u001b[0m\n\u001b[1;32m----> 3\u001b[1;33m \u001b[0mprint\u001b[0m\u001b[1;33m(\u001b[0m\u001b[0ma\u001b[0m\u001b[1;33m[\u001b[0m\u001b[1;36m2\u001b[0m\u001b[1;33m]\u001b[0m\u001b[1;33m[\u001b[0m\u001b[1;36m0\u001b[0m\u001b[1;33m]\u001b[0m\u001b[1;33m)\u001b[0m\u001b[1;33m\u001b[0m\u001b[1;33m\u001b[0m\u001b[0m\n\u001b[0m",
      "\u001b[1;31mTypeError\u001b[0m: 'int' object is not subscriptable"
     ]
    }
   ],
   "source": [
    "a = [12,23,45,67]\n",
    "print(a[2][0])\n",
    "# it will give error inly because of int has noo indexing"
   ]
  },
  {
   "cell_type": "code",
   "execution_count": 17,
   "id": "28597882",
   "metadata": {},
   "outputs": [
    {
     "name": "stdout",
     "output_type": "stream",
     "text": [
      "[12, 34, 23, 78.98, 'saurabh', 'rahul', 'vishal']\n",
      "1859413326208\n",
      "['saurabh', 'rahul', 'vishal', 12, 34, 23, 78.98]\n",
      "1859413315008\n"
     ]
    }
   ],
   "source": [
    "a = [12,34,23,78.98]\n",
    "b = [\"saurabh\",\"rahul\",\"vishal\"]\n",
    "c = a + b  # a will print first and then b\n",
    "print(c)\n",
    "print(id(c))\n",
    "c = b + a  # b will print first and then a\n",
    "print(c) # this will be the new object of type list name c\n",
    "print(id(c))"
   ]
  },
  {
   "cell_type": "markdown",
   "id": "c2f247bd",
   "metadata": {},
   "source": [
    "# LIST METHODS "
   ]
  },
  {
   "cell_type": "code",
   "execution_count": 20,
   "id": "1a6dbacd",
   "metadata": {},
   "outputs": [
    {
     "name": "stdout",
     "output_type": "stream",
     "text": [
      "[23, 45, 87, [23, 34], 'sautabh', 90]\n"
     ]
    }
   ],
   "source": [
    "a = [23,45,87,[23,34],\"sautabh\"]\n",
    "a.append(90)\n",
    "print(a)"
   ]
  },
  {
   "cell_type": "code",
   "execution_count": 23,
   "id": "45d7a6f2",
   "metadata": {},
   "outputs": [
    {
     "name": "stdout",
     "output_type": "stream",
     "text": [
      "[23, 45, 87, [23, 34], 'sautabh', 23, 45]\n"
     ]
    }
   ],
   "source": [
    "a = [23,45,87,[23,34],\"sautabh\"]\n",
    "a.extend([23,45])\n",
    "print(a)\n",
    "# in use extend function each item in first square bracate is individual"
   ]
  },
  {
   "cell_type": "code",
   "execution_count": 25,
   "id": "dd6b6f20",
   "metadata": {},
   "outputs": [
    {
     "name": "stdout",
     "output_type": "stream",
     "text": [
      "[1, 2, [4, 5], 3, 1, 2, [[10, 11], 33], 64]\n"
     ]
    }
   ],
   "source": [
    "a = [1,2,[4,5],3]\n",
    "b = [1,2,[[10,11],33],64]\n",
    "a.extend(b)\n",
    "print(a)"
   ]
  },
  {
   "cell_type": "code",
   "execution_count": 27,
   "id": "518445ac",
   "metadata": {},
   "outputs": [
    {
     "name": "stdout",
     "output_type": "stream",
     "text": [
      "[1, 2, 4, [4, 6, [7, [8, 9]], 10], 11]\n",
      "5\n"
     ]
    }
   ],
   "source": [
    "a = [1,2]\n",
    "b = [4,[4,6,[7,[8,9]],10],11]\n",
    "a.extend(b)\n",
    "print(a)\n",
    "print(len(a))"
   ]
  },
  {
   "cell_type": "code",
   "execution_count": 31,
   "id": "dd545ae8",
   "metadata": {},
   "outputs": [
    {
     "name": "stdout",
     "output_type": "stream",
     "text": [
      "[23, 45, 34, 87, [23, 34], 'saurabh']\n"
     ]
    }
   ],
   "source": [
    "a = [23,45,87,[23,34],\"saurabh\"]\n",
    "a.insert(2,34)\n",
    "print(a)\n",
    "# this method will insert the desired value at the place of index and value at that indes will be shifted to right"
   ]
  },
  {
   "cell_type": "code",
   "execution_count": 32,
   "id": "7a71facf",
   "metadata": {},
   "outputs": [
    {
     "name": "stdout",
     "output_type": "stream",
     "text": [
      "[23, 45, 87, [23, 34], 'inserted value', 'saurabh']\n"
     ]
    }
   ],
   "source": [
    "a = [23,45,87,[23,34],\"saurabh\"]\n",
    "a.insert(4,\"inserted value\")\n",
    "print(a)"
   ]
  },
  {
   "cell_type": "code",
   "execution_count": 34,
   "id": "b01dcc9a",
   "metadata": {},
   "outputs": [
    {
     "name": "stdout",
     "output_type": "stream",
     "text": [
      "[23, 45, 87, [23, 34]]\n"
     ]
    }
   ],
   "source": [
    "a = [23,45,87,[23,34],\"saurabh\"]\n",
    "a.remove(\"saurabh\")\n",
    "print(a)"
   ]
  },
  {
   "cell_type": "code",
   "execution_count": 36,
   "id": "9d4a38d8",
   "metadata": {},
   "outputs": [
    {
     "name": "stdout",
     "output_type": "stream",
     "text": [
      "[23, 45, [23, 34], 'saurabh']\n"
     ]
    }
   ],
   "source": [
    "a = [23,45,87,[23,34],\"saurabh\"]\n",
    "a.remove(87)\n",
    "print(a)"
   ]
  },
  {
   "cell_type": "code",
   "execution_count": 37,
   "id": "0cebf17e",
   "metadata": {},
   "outputs": [
    {
     "name": "stdout",
     "output_type": "stream",
     "text": [
      "[23, 45, 23, 87, 23, [23, 34], 'saurabh']\n",
      "1859413316608\n",
      "7\n",
      "[45, 23, 87, 23, [23, 34], 'saurabh']\n",
      "1859413316608\n",
      "6\n"
     ]
    }
   ],
   "source": [
    "a = [23,45,23,87,23,[23,34],\"saurabh\"]\n",
    "print(a)\n",
    "print(id(a))\n",
    "print(len(a))\n",
    "a.remove(23)\n",
    "print(a)\n",
    "print(id(a))\n",
    "print(len(a)) \n",
    "# removeal process is being happen withene the same object\n",
    "# if same va;lue is repeated for multiple times then the first value will deleted only not all"
   ]
  },
  {
   "cell_type": "code",
   "execution_count": 39,
   "id": "b8be2a50",
   "metadata": {},
   "outputs": [
    {
     "name": "stdout",
     "output_type": "stream",
     "text": [
      "[23, 45, 23, 87, 23, [23, 34]]\n"
     ]
    }
   ],
   "source": [
    "a = [23,45,23,87,23,[23,34],\"saurabh\"]\n",
    "a.pop()\n",
    "print(a)\n",
    "# pop() method will default remove the last element(-1)"
   ]
  },
  {
   "cell_type": "code",
   "execution_count": 40,
   "id": "5b72f66a",
   "metadata": {},
   "outputs": [
    {
     "name": "stdout",
     "output_type": "stream",
     "text": [
      "[23]\n"
     ]
    }
   ],
   "source": [
    "a = [23,45,23,87,23,[23,34],\"saurabh\"]\n",
    "a.pop()\n",
    "a.pop()\n",
    "a.pop()\n",
    "a.pop()\n",
    "a.pop()\n",
    "a.pop()\n",
    "print(a)\n"
   ]
  },
  {
   "cell_type": "code",
   "execution_count": 43,
   "id": "4d348510",
   "metadata": {},
   "outputs": [
    {
     "name": "stdout",
     "output_type": "stream",
     "text": [
      "[]\n"
     ]
    }
   ],
   "source": [
    "a = [23,45,23,87,23,[23,34],\"saurabh\"]\n",
    "a.clear()\n",
    "print(a)\n"
   ]
  },
  {
   "cell_type": "code",
   "execution_count": 46,
   "id": "573dc2c7",
   "metadata": {},
   "outputs": [
    {
     "name": "stdout",
     "output_type": "stream",
     "text": [
      "[23, 45, 23, 87, 23, [23, 34], 'saurabh']\n",
      "1859414040768\n",
      "[]\n",
      "1859414040768\n"
     ]
    }
   ],
   "source": [
    "a = [23,45,23,87,23,[23,34],\"saurabh\"]\n",
    "print(a)\n",
    "print(id(a))\n",
    "a.clear()\n",
    "print(a)\n",
    "print(id(a))\n",
    "# the clear method will clear all the values but not objet"
   ]
  },
  {
   "cell_type": "code",
   "execution_count": 49,
   "id": "4d739960",
   "metadata": {},
   "outputs": [
    {
     "name": "stdout",
     "output_type": "stream",
     "text": [
      "[]\n",
      "[12, 12, 34, 56]\n"
     ]
    }
   ],
   "source": [
    "a = [23,45,23,87,23,[23,34],\"saurabh\"]\n",
    "a.clear()\n",
    "print(a)\n",
    "a.append(12)\n",
    "a.extend([12,34,56])\n",
    "print(a)\n",
    "# in this example we saw that after clear also we can append or extendd the items in object"
   ]
  },
  {
   "cell_type": "code",
   "execution_count": 51,
   "id": "2aeec11f",
   "metadata": {},
   "outputs": [
    {
     "ename": "NameError",
     "evalue": "name 'a' is not defined",
     "output_type": "error",
     "traceback": [
      "\u001b[1;31m---------------------------------------------------------------------------\u001b[0m",
      "\u001b[1;31mNameError\u001b[0m                                 Traceback (most recent call last)",
      "\u001b[1;32m~\\AppData\\Local\\Temp\\ipykernel_836\\3874632014.py\u001b[0m in \u001b[0;36m<module>\u001b[1;34m\u001b[0m\n\u001b[0;32m      1\u001b[0m \u001b[0ma\u001b[0m \u001b[1;33m=\u001b[0m \u001b[1;33m[\u001b[0m\u001b[1;36m23\u001b[0m\u001b[1;33m,\u001b[0m\u001b[1;36m45\u001b[0m\u001b[1;33m,\u001b[0m\u001b[1;36m23\u001b[0m\u001b[1;33m,\u001b[0m\u001b[1;36m87\u001b[0m\u001b[1;33m,\u001b[0m\u001b[1;36m23\u001b[0m\u001b[1;33m,\u001b[0m\u001b[1;33m[\u001b[0m\u001b[1;36m23\u001b[0m\u001b[1;33m,\u001b[0m\u001b[1;36m34\u001b[0m\u001b[1;33m]\u001b[0m\u001b[1;33m,\u001b[0m\u001b[1;34m\"saurabh\"\u001b[0m\u001b[1;33m]\u001b[0m\u001b[1;33m\u001b[0m\u001b[1;33m\u001b[0m\u001b[0m\n\u001b[0;32m      2\u001b[0m \u001b[1;32mdel\u001b[0m \u001b[0ma\u001b[0m\u001b[1;33m\u001b[0m\u001b[1;33m\u001b[0m\u001b[0m\n\u001b[1;32m----> 3\u001b[1;33m \u001b[0mprint\u001b[0m\u001b[1;33m(\u001b[0m\u001b[0ma\u001b[0m\u001b[1;33m)\u001b[0m\u001b[1;33m\u001b[0m\u001b[1;33m\u001b[0m\u001b[0m\n\u001b[0m",
      "\u001b[1;31mNameError\u001b[0m: name 'a' is not defined"
     ]
    }
   ],
   "source": [
    "a = [23,45,23,87,23,[23,34],\"saurabh\"]\n",
    "del a\n",
    "print(a)\n",
    "# del() method  will delete complete object and if we call it after deletion it will give error"
   ]
  },
  {
   "cell_type": "code",
   "execution_count": 53,
   "id": "a3f137fc",
   "metadata": {},
   "outputs": [
    {
     "name": "stdout",
     "output_type": "stream",
     "text": [
      "[23, 45, 23, 87, 23, [23, 34]]\n"
     ]
    }
   ],
   "source": [
    "a = [23,45,23,87,23,[23,34],\"saurabh\"]\n",
    "del a[6]\n",
    "print(a)"
   ]
  },
  {
   "cell_type": "code",
   "execution_count": 54,
   "id": "e198b933",
   "metadata": {},
   "outputs": [
    {
     "name": "stdout",
     "output_type": "stream",
     "text": [
      "[23, [23, 34], 'saurabh']\n"
     ]
    }
   ],
   "source": [
    "a = [23,45,23,87,23,[23,34],\"saurabh\"]\n",
    "del a[1:5]\n",
    "print(a)\n",
    "# here we can delete the slice also"
   ]
  },
  {
   "cell_type": "code",
   "execution_count": 64,
   "id": "3e3b8872",
   "metadata": {},
   "outputs": [
    {
     "name": "stdout",
     "output_type": "stream",
     "text": [
      "['saurabh', [23, 34], 23, 87, 23, 45, 23]\n"
     ]
    }
   ],
   "source": [
    "a = [23,45,23,87,23,[23,34],\"saurabh\"]\n",
    "a.reverse()\n",
    "print(a)\n",
    "# this function will reverse whole strring"
   ]
  },
  {
   "cell_type": "code",
   "execution_count": 57,
   "id": "164ae0f3",
   "metadata": {},
   "outputs": [
    {
     "name": "stdout",
     "output_type": "stream",
     "text": [
      "['saurabh', [23, 34], 23, 87, 23, 45, 23]\n"
     ]
    }
   ],
   "source": [
    "a = [23,45,23,87,23,[23,34],\"saurabh\"]\n",
    "print(a[::-1])\n",
    "# we cn reverse the string in this way also"
   ]
  },
  {
   "cell_type": "code",
   "execution_count": 60,
   "id": "04a8380b",
   "metadata": {},
   "outputs": [
    {
     "name": "stdout",
     "output_type": "stream",
     "text": [
      "hbaruas\n"
     ]
    }
   ],
   "source": [
    "a = [23,45,23,87,23,[23,34],\"saurabh\"]\n",
    "print(a[6][::-1])\n",
    "# access the string from list and reverse it 🤭"
   ]
  },
  {
   "cell_type": "code",
   "execution_count": 73,
   "id": "f498832e",
   "metadata": {},
   "outputs": [
    {
     "ename": "TypeError",
     "evalue": "'<' not supported between instances of 'list' and 'int'",
     "output_type": "error",
     "traceback": [
      "\u001b[1;31m---------------------------------------------------------------------------\u001b[0m",
      "\u001b[1;31mTypeError\u001b[0m                                 Traceback (most recent call last)",
      "\u001b[1;32m~\\AppData\\Local\\Temp\\ipykernel_836\\114870334.py\u001b[0m in \u001b[0;36m<module>\u001b[1;34m\u001b[0m\n\u001b[0;32m      1\u001b[0m \u001b[0ma\u001b[0m \u001b[1;33m=\u001b[0m \u001b[1;33m[\u001b[0m\u001b[1;36m23\u001b[0m\u001b[1;33m,\u001b[0m\u001b[1;36m45\u001b[0m\u001b[1;33m,\u001b[0m\u001b[1;36m23\u001b[0m\u001b[1;33m,\u001b[0m\u001b[1;36m87\u001b[0m\u001b[1;33m,\u001b[0m\u001b[1;36m23\u001b[0m\u001b[1;33m,\u001b[0m\u001b[1;33m[\u001b[0m\u001b[1;36m23\u001b[0m\u001b[1;33m,\u001b[0m\u001b[1;36m34\u001b[0m\u001b[1;33m]\u001b[0m\u001b[1;33m]\u001b[0m\u001b[1;33m\u001b[0m\u001b[1;33m\u001b[0m\u001b[0m\n\u001b[1;32m----> 2\u001b[1;33m \u001b[0ma\u001b[0m\u001b[1;33m.\u001b[0m\u001b[0msort\u001b[0m\u001b[1;33m(\u001b[0m\u001b[1;33m)\u001b[0m\u001b[1;33m\u001b[0m\u001b[1;33m\u001b[0m\u001b[0m\n\u001b[0m\u001b[0;32m      3\u001b[0m \u001b[0mprint\u001b[0m\u001b[1;33m(\u001b[0m\u001b[0ma\u001b[0m\u001b[1;33m)\u001b[0m\u001b[1;33m\u001b[0m\u001b[1;33m\u001b[0m\u001b[0m\n",
      "\u001b[1;31mTypeError\u001b[0m: '<' not supported between instances of 'list' and 'int'"
     ]
    }
   ],
   "source": [
    "a = [23,45,23,87,23,[23,34]]\n",
    "a.sort()\n",
    "print(a)\n",
    "# you  can not sort the list if there is another datatype or instance of list (nested list) in it"
   ]
  },
  {
   "cell_type": "code",
   "execution_count": 74,
   "id": "53d62042",
   "metadata": {},
   "outputs": [
    {
     "name": "stdout",
     "output_type": "stream",
     "text": [
      "[23, 23, 23, 23, 34, 45, 87]\n"
     ]
    }
   ],
   "source": [
    "a = [23,45,23,87,23,23,34,]\n",
    "a.sort()\n",
    "print(a)\n",
    "# sort method sortlist in assending order"
   ]
  },
  {
   "cell_type": "code",
   "execution_count": 76,
   "id": "e088acc9",
   "metadata": {},
   "outputs": [
    {
     "name": "stdout",
     "output_type": "stream",
     "text": [
      "[87, 45, 34, 23, 23, 23, 23]\n"
     ]
    }
   ],
   "source": [
    "a = [23,45,23,87,23,23,34,]\n",
    "a.sort()\n",
    "print(a[::-1])\n",
    "# in this way also we can print descending order string"
   ]
  },
  {
   "cell_type": "code",
   "execution_count": 79,
   "id": "b8494049",
   "metadata": {},
   "outputs": [
    {
     "name": "stdout",
     "output_type": "stream",
     "text": [
      "[23, 45, 23, 87, 23, 23, 34]\n"
     ]
    }
   ],
   "source": [
    "a = [23,45,23,87,23,23,34,]\n",
    "sorted(a)\n",
    "# sorted(a) function will sort the list but it will not get stored in list"
   ]
  },
  {
   "cell_type": "code",
   "execution_count": 83,
   "id": "204b312f",
   "metadata": {},
   "outputs": [
    {
     "name": "stdout",
     "output_type": "stream",
     "text": [
      "[23, 45, 23, 87, 23, 23, 34]\n"
     ]
    },
    {
     "data": {
      "text/plain": [
       "' here we can see the sorted functionn have sorted the list but still its not \\n    printed as sorted bcz it havent stored in a'"
      ]
     },
     "execution_count": 83,
     "metadata": {},
     "output_type": "execute_result"
    }
   ],
   "source": [
    "a = [23,45,23,87,23,23,34,]\n",
    "sorted(a)\n",
    "print(a)\n",
    "'''here we can see the sorted functionn have sorted the list but still its not \n",
    "    printed as sorted bcz it havent stored in a '''"
   ]
  },
  {
   "cell_type": "code",
   "execution_count": 85,
   "id": "08b67132",
   "metadata": {},
   "outputs": [
    {
     "name": "stdout",
     "output_type": "stream",
     "text": [
      "[23, 45, 23, 87, 23, 23, 34, 5]\n",
      "[23, 45, 23, 87, 23, 23, 34, 5]\n"
     ]
    }
   ],
   "source": [
    "a = [23,45,23,87,23,23,34,]\n",
    "b = a\n",
    "b.append(5)\n",
    "print(b)\n",
    "print(a)\n",
    "# here we can see the the a and b both are changed so its called as deep copy"
   ]
  },
  {
   "cell_type": "code",
   "execution_count": 1,
   "id": "74b00e1e",
   "metadata": {},
   "outputs": [
    {
     "name": "stdout",
     "output_type": "stream",
     "text": [
      "this is b [23, 45, 23, 87, 23, 23, 34, 'saurabh']\n",
      "this is a [23, 45, 23, 87, 23, 23, 34]\n"
     ]
    }
   ],
   "source": [
    "a = [23,45,23,87,23,23,34,]\n",
    "b = a.copy()\n",
    "b.append(\"saurabh\")\n",
    "print(\"this is b\",b)\n",
    "print(\"this is a\",a)\n",
    "# here we see that change is occured in b but not in a because it was shallow copy of a"
   ]
  },
  {
   "cell_type": "code",
   "execution_count": 1,
   "id": "387801cb",
   "metadata": {},
   "outputs": [
    {
     "data": {
      "text/plain": [
       "4"
      ]
     },
     "execution_count": 1,
     "metadata": {},
     "output_type": "execute_result"
    }
   ],
   "source": [
    "a = [23,45,23,87,23,23,34,]\n",
    "a.count(23)"
   ]
  },
  {
   "cell_type": "code",
   "execution_count": 7,
   "id": "4ba48311",
   "metadata": {},
   "outputs": [
    {
     "name": "stdout",
     "output_type": "stream",
     "text": [
      "[23, 45, 23, 23, 23, 34]\n"
     ]
    }
   ],
   "source": [
    "a = [23,45,23,87,23,23,34,]\n",
    "a.remove(87)\n",
    "print(a)\n"
   ]
  }
 ],
 "metadata": {
  "kernelspec": {
   "display_name": "Python 3 (ipykernel)",
   "language": "python",
   "name": "python3"
  },
  "language_info": {
   "codemirror_mode": {
    "name": "ipython",
    "version": 3
   },
   "file_extension": ".py",
   "mimetype": "text/x-python",
   "name": "python",
   "nbconvert_exporter": "python",
   "pygments_lexer": "ipython3",
   "version": "3.9.13"
  }
 },
 "nbformat": 4,
 "nbformat_minor": 5
}
