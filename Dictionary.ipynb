{
 "cells": [
  {
   "cell_type": "code",
   "execution_count": 9,
   "id": "87aa9ad6",
   "metadata": {},
   "outputs": [
    {
     "data": {
      "text/plain": [
       "dict"
      ]
     },
     "execution_count": 9,
     "metadata": {},
     "output_type": "execute_result"
    }
   ],
   "source": [
    "a = {\"b\":\"a\"}\n",
    "type(a)\n"
   ]
  },
  {
   "cell_type": "code",
   "execution_count": 10,
   "id": "d201451a",
   "metadata": {},
   "outputs": [
    {
     "ename": "SyntaxError",
     "evalue": "invalid syntax (3646912598.py, line 1)",
     "output_type": "error",
     "traceback": [
      "\u001b[1;36m  File \u001b[1;32m\"C:\\Users\\saurabh\\AppData\\Local\\Temp\\ipykernel_11772\\3646912598.py\"\u001b[1;36m, line \u001b[1;32m1\u001b[0m\n\u001b[1;33m    a ={\"b\":}\u001b[0m\n\u001b[1;37m            ^\u001b[0m\n\u001b[1;31mSyntaxError\u001b[0m\u001b[1;31m:\u001b[0m invalid syntax\n"
     ]
    }
   ],
   "source": [
    "a ={\"b\":}\n",
    "# empty key is not allowed "
   ]
  },
  {
   "cell_type": "code",
   "execution_count": 17,
   "id": "e7e16177",
   "metadata": {},
   "outputs": [
    {
     "data": {
      "text/plain": [
       "[1, 2, 3, 4]"
      ]
     },
     "execution_count": 17,
     "metadata": {},
     "output_type": "execute_result"
    }
   ],
   "source": [
    "a = {\"a\":23,\"b\":34,\"c\":\"maths\",\"d\":{\"d1\":[1,2,3,4]}}\n",
    "a[\"d\"][\"d1\"]\n",
    "# there can be any datatype in list hennce it is hetrogeneous "
   ]
  },
  {
   "cell_type": "code",
   "execution_count": 19,
   "id": "ff08415a",
   "metadata": {},
   "outputs": [
    {
     "data": {
      "text/plain": [
       "[1, 2, 3]"
      ]
     },
     "execution_count": 19,
     "metadata": {},
     "output_type": "execute_result"
    }
   ],
   "source": [
    "a[\"d\"][\"d1\"][0:3]"
   ]
  },
  {
   "cell_type": "code",
   "execution_count": 25,
   "id": "2171cdc8",
   "metadata": {},
   "outputs": [
    {
     "data": {
      "text/plain": [
       "'def'"
      ]
     },
     "execution_count": 25,
     "metadata": {},
     "output_type": "execute_result"
    }
   ],
   "source": [
    "s =[(\"abc\",\"def\"),(\"rao\",34),(\"oop\",[1,2,3])]\n",
    "s = dict(s)\n",
    "type(s)\n",
    "s[\"abc\"]\n",
    "# we can have the dict as the list of tuples "
   ]
  },
  {
   "cell_type": "code",
   "execution_count": 30,
   "id": "247f5de6",
   "metadata": {},
   "outputs": [
    {
     "data": {
      "text/plain": [
       "'good'"
      ]
     },
     "execution_count": 30,
     "metadata": {},
     "output_type": "execute_result"
    }
   ],
   "source": [
    "d = {\"saurabh\":\"good boy\",\"maths\":23,\"b\":[12,34,56],\"c\":(44,56,78)}\n",
    "type(d)\n",
    "d[\"saurabh\"][0:4]\n",
    "# we can do slicing in value also by accessing key"
   ]
  },
  {
   "cell_type": "markdown",
   "id": "c0de2b11",
   "metadata": {},
   "source": [
    "## DICT METHODS"
   ]
  },
  {
   "cell_type": "code",
   "execution_count": 31,
   "id": "4ba487e6",
   "metadata": {},
   "outputs": [
    {
     "data": {
      "text/plain": [
       "dict_items([('saurabh', 'good boy'), ('maths', 23), ('b', [12, 34, 56]), ('c', (44, 56, 78))])"
      ]
     },
     "execution_count": 31,
     "metadata": {},
     "output_type": "execute_result"
    }
   ],
   "source": [
    "d = {\"saurabh\":\"good boy\",\"maths\":23,\"b\":[12,34,56],\"c\":(44,56,78)}\n",
    "d.items()\n",
    "# this is the method to access the items from the list"
   ]
  },
  {
   "cell_type": "code",
   "execution_count": 32,
   "id": "7b75bc27",
   "metadata": {},
   "outputs": [
    {
     "data": {
      "text/plain": [
       "dict_keys(['saurabh', 'maths', 'b', 'c'])"
      ]
     },
     "execution_count": 32,
     "metadata": {},
     "output_type": "execute_result"
    }
   ],
   "source": [
    "d = {\"saurabh\":\"good boy\",\"maths\":23,\"b\":[12,34,56],\"c\":(44,56,78)}\n",
    "d.keys()\n",
    "# this method will give you all keys from dict"
   ]
  },
  {
   "cell_type": "code",
   "execution_count": 33,
   "id": "a327752d",
   "metadata": {},
   "outputs": [
    {
     "data": {
      "text/plain": [
       "dict_values(['good boy', 23, [12, 34, 56], (44, 56, 78)])"
      ]
     },
     "execution_count": 33,
     "metadata": {},
     "output_type": "execute_result"
    }
   ],
   "source": [
    "d = {\"saurabh\":\"good boy\",\"maths\":23,\"b\":[12,34,56],\"c\":(44,56,78)}\n",
    "d.values()\n",
    "# to get values of all keys "
   ]
  },
  {
   "cell_type": "code",
   "execution_count": 36,
   "id": "936ddab5",
   "metadata": {},
   "outputs": [
    {
     "name": "stdout",
     "output_type": "stream",
     "text": [
      "(44, 56, 78)\n",
      "{'saurabh': 'good boy', 'maths': 23, 'b': [12, 34, 56]}\n"
     ]
    }
   ],
   "source": [
    "d = {\"saurabh\":\"good boy\",\"maths\":23,\"b\":[12,34,56],\"c\":(44,56,78)}\n",
    "print(d.pop(\"c\"))\n",
    "print(d)\n",
    "# works on the key\n",
    "# it will remove and return values of given key and delete that key\n",
    "# work as same as del [key name] "
   ]
  },
  {
   "cell_type": "code",
   "execution_count": 37,
   "id": "95927ab4",
   "metadata": {},
   "outputs": [
    {
     "data": {
      "text/plain": [
       "('c', (44, 56, 78))"
      ]
     },
     "execution_count": 37,
     "metadata": {},
     "output_type": "execute_result"
    }
   ],
   "source": [
    "d = {\"saurabh\":\"good boy\",\"maths\":23,\"b\":[12,34,56],\"c\":(44,56,78)}\n",
    "d.popitem()\n",
    "# this item will return and remove the \"\"\"last\"\"\" item of the dict "
   ]
  },
  {
   "cell_type": "code",
   "execution_count": 39,
   "id": "4cfc7ae3",
   "metadata": {},
   "outputs": [
    {
     "name": "stdout",
     "output_type": "stream",
     "text": [
      "{}\n"
     ]
    }
   ],
   "source": [
    "d = {\"saurabh\":\"good boy\",\"maths\":23,\"b\":[12,34,56],\"c\":(44,56,78)}\n",
    "d.clear()\n",
    "print(d)\n",
    "# this method will clear all values but not delete object"
   ]
  },
  {
   "cell_type": "code",
   "execution_count": 44,
   "id": "a9c11671",
   "metadata": {},
   "outputs": [
    {
     "name": "stdout",
     "output_type": "stream",
     "text": [
      "{'saurabh': 'good boy', 'maths': 23, 'b': [12, 34, 56]}\n",
      "{'saurabh': 'good boy', 'maths': 23, 'b': [12, 34, 56], 'c': (44, 56, 78)}\n"
     ]
    }
   ],
   "source": [
    "d = {\"saurabh\":\"good boy\",\"maths\":23,\"b\":[12,34,56],\"c\":(44,56,78)}\n",
    "e = d.copy()\n",
    "e.popitem()\n",
    "print(e)\n",
    "print(d)\n",
    "# we can see e is the making shallow copy of d "
   ]
  },
  {
   "cell_type": "code",
   "execution_count": 48,
   "id": "8ffdaac0",
   "metadata": {},
   "outputs": [
    {
     "name": "stdout",
     "output_type": "stream",
     "text": [
      "2719022323008\n",
      "2719022265648\n",
      "good boy\n"
     ]
    },
    {
     "data": {
      "text/plain": [
       "[12, 34, 56]"
      ]
     },
     "execution_count": 48,
     "metadata": {},
     "output_type": "execute_result"
    }
   ],
   "source": [
    "d = {\"saurabh\":\"good boy\",\"maths\":23,\"b\":[12,34,56],\"c\":(44,56,78)}\n",
    "a = d.get(\"saurabh\")\n",
    "print(a)\n",
    "d.get(\"b\")\n",
    "d.get(\"maths\")\n",
    "# to access value of any key we can also use it"
   ]
  },
  {
   "cell_type": "code",
   "execution_count": 50,
   "id": "58d74b49",
   "metadata": {},
   "outputs": [
    {
     "name": "stdout",
     "output_type": "stream",
     "text": [
      "{'saurabh': 'good boy', 'maths': 23, 'b': [12, 34, 56], 'c': (44, 56, 78), 'bodke': 'surname'}\n"
     ]
    }
   ],
   "source": [
    "d = {\"saurabh\":\"good boy\",\"maths\":23,\"b\":[12,34,56],\"c\":(44,56,78)}\n",
    "d[\"bodke\"]=\"surname\"\n",
    "print(d)\n",
    "# to add single item to dict we can do this"
   ]
  },
  {
   "cell_type": "code",
   "execution_count": 54,
   "id": "0635c908",
   "metadata": {},
   "outputs": [
    {
     "name": "stdout",
     "output_type": "stream",
     "text": [
      "{'saurabh': 'good boy', 'maths': 23, 'b': [12, 34, 56], 'c': (44, 56, 78), 'srk': 'king khan', 'abd': 'mr360'}\n"
     ]
    }
   ],
   "source": [
    "d = {\"saurabh\":\"good boy\",\"maths\":23,\"b\":[12,34,56],\"c\":(44,56,78)}\n",
    "d.update({\"srk\":\"king khan\",\"abd\":\"mr360\"})\n",
    "print(d)\n"
   ]
  },
  {
   "cell_type": "code",
   "execution_count": 56,
   "id": "78fe805f",
   "metadata": {},
   "outputs": [
    {
     "name": "stdout",
     "output_type": "stream",
     "text": [
      "{'saurabh': 'bad boy', 'maths': 23, 'b': [12, 34, 56], 'c': (44, 56, 78)}\n"
     ]
    }
   ],
   "source": [
    "d = {\"saurabh\":\"good boy\",\"maths\":23,\"b\":[12,34,56],\"c\":(44,56,78)}\n",
    "d[\"saurabh\"]=\"bad boy\"\n",
    "print(d)\n",
    "# to replace value of any key "
   ]
  },
  {
   "cell_type": "code",
   "execution_count": 60,
   "id": "cacf9dcc",
   "metadata": {},
   "outputs": [
    {
     "name": "stdout",
     "output_type": "stream",
     "text": [
      "{'saurabh': 'good boy', 'b': [12, 34, 56], 'c': (44, 56, 78), 'hindi': 23}\n"
     ]
    }
   ],
   "source": [
    "d = {\"saurabh\":\"good boy\",\"maths\":23,\"b\":[12,34,56],\"c\":(44,56,78)}\n",
    "d[\"hindi\"]=d.pop(\"maths\")\n",
    "print(d)\n",
    "# pop will remove the key and again d[]it will insert insted of value on its place"
   ]
  },
  {
   "cell_type": "code",
   "execution_count": 64,
   "id": "a42addd5",
   "metadata": {},
   "outputs": [
    {
     "name": "stdout",
     "output_type": "stream",
     "text": [
      "{'maths': 23, 'b': [12, 34, 56], 'c': (44, 56, 78)}\n"
     ]
    }
   ],
   "source": [
    "d = {\"saurabh\":\"good boy\",\"maths\":23,\"b\":[12,34,56],\"c\":(44,56,78)}\n",
    "del d[\"saurabh\"]\n",
    "print(d)\n",
    "# to delete the \"key\" we can use this function also  \n",
    "# it works similar as pop method\n"
   ]
  },
  {
   "cell_type": "code",
   "execution_count": null,
   "id": "a53fc529",
   "metadata": {},
   "outputs": [],
   "source": []
  }
 ],
 "metadata": {
  "kernelspec": {
   "display_name": "Python 3 (ipykernel)",
   "language": "python",
   "name": "python3"
  },
  "language_info": {
   "codemirror_mode": {
    "name": "ipython",
    "version": 3
   },
   "file_extension": ".py",
   "mimetype": "text/x-python",
   "name": "python",
   "nbconvert_exporter": "python",
   "pygments_lexer": "ipython3",
   "version": "3.9.13"
  }
 },
 "nbformat": 4,
 "nbformat_minor": 5
}
